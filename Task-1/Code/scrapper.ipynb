{
 "cells": [
  {
   "cell_type": "code",
   "execution_count": 218,
   "metadata": {},
   "outputs": [
    {
     "name": "stdout",
     "output_type": "stream",
     "text": [
      "Requirement already satisfied: openpyxl in /Users/darkmaster/anaconda3/lib/python3.10/site-packages (3.0.10)\n",
      "Requirement already satisfied: et_xmlfile in /Users/darkmaster/anaconda3/lib/python3.10/site-packages (from openpyxl) (1.1.0)\n"
     ]
    }
   ],
   "source": [
    "# !pip install requests_html\n",
    "# !pip install PyPDF2\n",
    "# !pip install rouge\n",
    "# !pip install openpyxl\n"
   ]
  },
  {
   "cell_type": "code",
   "execution_count": 219,
   "metadata": {},
   "outputs": [],
   "source": [
    "from requests_html import HTMLSession\n",
    "from requests.exceptions import ConnectionError\n",
    "from bs4 import BeautifulSoup\n",
    "import re\n",
    "from openpyxl import Workbook"
   ]
  },
  {
   "cell_type": "code",
   "execution_count": 220,
   "metadata": {},
   "outputs": [],
   "source": [
    "s= HTMLSession()"
   ]
  },
  {
   "cell_type": "code",
   "execution_count": 221,
   "metadata": {},
   "outputs": [],
   "source": [
    "def clean_string(text):\n",
    "    text = re.sub(r'\\s+', ' ', text)\n",
    "    text = text.strip()\n",
    "    text = text.replace('\\n', '')\n",
    "    return text\n",
    "\n",
    "def convert_to_map(lst):\n",
    "    map_dict = {item.split(':')[0].strip(): item.split(':')[1].strip() for item in lst}\n",
    "    return map_dict"
   ]
  },
  {
   "cell_type": "code",
   "execution_count": 222,
   "metadata": {},
   "outputs": [],
   "source": [
    "headers={'user-agent': 'Mozilla/5.0 (Macintosh; Intel Mac OS X 10_15_7) AppleWebKit/537.36 (KHTML, like Gecko) Chrome/113.0.0.0 Safari/537.36 Edg/113.0.1774.57'}\n",
    "file= open('input.txt','r')\n",
    "ids= file.readlines()\n",
    "base_url='https://pubmed.ncbi.nlm.nih.gov/'\n",
    "total_abstracts={}\n",
    "for id in ids:\n",
    "    pmcid= id.strip()\n",
    "    r=s.get(base_url+pmcid+'/',headers=headers,timeout=5)\n",
    "    soup = BeautifulSoup(r.content, 'html.parser')\n",
    "    div_abstract = soup.find('div', {'class': 'abstract'})\n",
    "\n",
    "    if div_abstract:\n",
    "        abstract_components= div_abstract.find_all('p')\n",
    "        abstract_components=[clean_string(abstract.text.strip()) for abstract in abstract_components]\n",
    "        total_abstracts[id]=convert_to_map(abstract_components)"
   ]
  },
  {
   "cell_type": "code",
   "execution_count": 224,
   "metadata": {},
   "outputs": [],
   "source": [
    "def write_nested_map_to_excel(nested_map, filename):\n",
    "    workbook = Workbook()\n",
    "    sheet = workbook.active\n",
    "    row = 1\n",
    "    for outer_key, inner_map in nested_map.items():\n",
    "        sheet.cell(row=row, column=1, value=outer_key)\n",
    "        for inner_key, value in inner_map.items():\n",
    "            sheet.cell(row=row, column=2, value=inner_key)\n",
    "            sheet.cell(row=row, column=3, value=value)\n",
    "            row += 1\n",
    "        row += 1\n",
    "    workbook.save(filename)"
   ]
  },
  {
   "cell_type": "code",
   "execution_count": 225,
   "metadata": {},
   "outputs": [],
   "source": [
    "write_nested_map_to_excel(total_abstracts, 'output.xlsx')"
   ]
  }
 ],
 "metadata": {
  "kernelspec": {
   "display_name": "base",
   "language": "python",
   "name": "python3"
  },
  "language_info": {
   "codemirror_mode": {
    "name": "ipython",
    "version": 3
   },
   "file_extension": ".py",
   "mimetype": "text/x-python",
   "name": "python",
   "nbconvert_exporter": "python",
   "pygments_lexer": "ipython3",
   "version": "3.10.9"
  },
  "orig_nbformat": 4
 },
 "nbformat": 4,
 "nbformat_minor": 2
}
