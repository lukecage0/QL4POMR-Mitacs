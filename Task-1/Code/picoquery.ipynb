{
 "cells": [
  {
   "cell_type": "code",
   "execution_count": 109,
   "metadata": {},
   "outputs": [],
   "source": [
    "import requests\n",
    "from bs4 import BeautifulSoup"
   ]
  },
  {
   "cell_type": "code",
   "execution_count": 110,
   "metadata": {},
   "outputs": [],
   "source": [
    "def perform_pico_query(query):\n",
    "    # Format the query string\n",
    "    formatted_query = '+'.join(query.split())\n",
    "\n",
    "    # Construct the PubMed URL with the formatted query\n",
    "    url = f'https://pubmed.ncbi.nlm.nih.gov/?term={formatted_query}'\n",
    "\n",
    "    # Send a GET request to the PubMed URL\n",
    "    response = requests.get(url)\n",
    "\n",
    "    if response.status_code == 200:\n",
    "        # Parse the HTML content using BeautifulSoup\n",
    "        soup = BeautifulSoup(response.content, 'html.parser')\n",
    "       \n",
    "        pmids = []\n",
    "        article_links = soup.find_all(\"span\", class_=\"docsum-pmid\")\n",
    "        for link in article_links:\n",
    "            pmids.append(link.text.strip())\n",
    "        return pmids\n",
    "    else:\n",
    "        print('Error occurred while performing the PICO query.')"
   ]
  },
  {
   "cell_type": "code",
   "execution_count": 108,
   "metadata": {},
   "outputs": [],
   "source": [
    "query = 'PICO(Asthma AND hasstructuredabstract AND (english[Filter]))'\n",
    "results = perform_pico_query(query)\n",
    "file_path = \"input.txt\"\n",
    "file = open(file_path, 'a')\n",
    "for pmcid in results:\n",
    "    string_to_append = pmcid+\"\\n\"\n",
    "    file.write(string_to_append)\n",
    "file.close()"
   ]
  }
 ],
 "metadata": {
  "kernelspec": {
   "display_name": "base",
   "language": "python",
   "name": "python3"
  },
  "language_info": {
   "codemirror_mode": {
    "name": "ipython",
    "version": 3
   },
   "file_extension": ".py",
   "mimetype": "text/x-python",
   "name": "python",
   "nbconvert_exporter": "python",
   "pygments_lexer": "ipython3",
   "version": "3.10.9"
  },
  "orig_nbformat": 4
 },
 "nbformat": 4,
 "nbformat_minor": 2
}
