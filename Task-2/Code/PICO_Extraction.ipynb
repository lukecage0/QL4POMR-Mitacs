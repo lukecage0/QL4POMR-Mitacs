{
  "cells": [
    {
      "attachments": {},
      "cell_type": "markdown",
      "metadata": {
        "id": "qELgT4eSYfF0"
      },
      "source": [
        "# **PICO EXTRACTION** *| BERT NER*\n",
        "### Participants/Problem (P), Intervention (I), Comparison (C) and Outcome (O)"
      ]
    },
    {
      "cell_type": "code",
      "execution_count": 47,
      "metadata": {
        "id": "XXDQ9uVmriHa"
      },
      "outputs": [
        {
          "name": "stdout",
          "output_type": "stream",
          "text": [
            "Requirement already satisfied: datasets in /Users/darkmaster/anaconda3/lib/python3.10/site-packages (2.12.0)\n",
            "Requirement already satisfied: tqdm>=4.62.1 in /Users/darkmaster/anaconda3/lib/python3.10/site-packages (from datasets) (4.64.1)\n",
            "Requirement already satisfied: dill<0.3.7,>=0.3.0 in /Users/darkmaster/anaconda3/lib/python3.10/site-packages (from datasets) (0.3.6)\n",
            "Requirement already satisfied: packaging in /Users/darkmaster/anaconda3/lib/python3.10/site-packages (from datasets) (22.0)\n",
            "Requirement already satisfied: numpy>=1.17 in /Users/darkmaster/anaconda3/lib/python3.10/site-packages (from datasets) (1.23.5)\n",
            "Requirement already satisfied: requests>=2.19.0 in /Users/darkmaster/anaconda3/lib/python3.10/site-packages (from datasets) (2.28.1)\n",
            "Requirement already satisfied: xxhash in /Users/darkmaster/anaconda3/lib/python3.10/site-packages (from datasets) (3.2.0)\n",
            "Requirement already satisfied: fsspec[http]>=2021.11.1 in /Users/darkmaster/anaconda3/lib/python3.10/site-packages (from datasets) (2022.11.0)\n",
            "Requirement already satisfied: pyarrow>=8.0.0 in /Users/darkmaster/anaconda3/lib/python3.10/site-packages (from datasets) (12.0.0)\n",
            "Requirement already satisfied: pandas in /Users/darkmaster/anaconda3/lib/python3.10/site-packages (from datasets) (1.5.3)\n",
            "Requirement already satisfied: pyyaml>=5.1 in /Users/darkmaster/anaconda3/lib/python3.10/site-packages (from datasets) (6.0)\n",
            "Requirement already satisfied: aiohttp in /Users/darkmaster/anaconda3/lib/python3.10/site-packages (from datasets) (3.8.4)\n",
            "Requirement already satisfied: responses<0.19 in /Users/darkmaster/anaconda3/lib/python3.10/site-packages (from datasets) (0.18.0)\n",
            "Requirement already satisfied: multiprocess in /Users/darkmaster/anaconda3/lib/python3.10/site-packages (from datasets) (0.70.14)\n",
            "Requirement already satisfied: huggingface-hub<1.0.0,>=0.11.0 in /Users/darkmaster/anaconda3/lib/python3.10/site-packages (from datasets) (0.15.1)\n",
            "Requirement already satisfied: frozenlist>=1.1.1 in /Users/darkmaster/anaconda3/lib/python3.10/site-packages (from aiohttp->datasets) (1.3.3)\n",
            "Requirement already satisfied: aiosignal>=1.1.2 in /Users/darkmaster/anaconda3/lib/python3.10/site-packages (from aiohttp->datasets) (1.3.1)\n",
            "Requirement already satisfied: yarl<2.0,>=1.0 in /Users/darkmaster/anaconda3/lib/python3.10/site-packages (from aiohttp->datasets) (1.9.2)\n",
            "Requirement already satisfied: attrs>=17.3.0 in /Users/darkmaster/anaconda3/lib/python3.10/site-packages (from aiohttp->datasets) (22.1.0)\n",
            "Requirement already satisfied: charset-normalizer<4.0,>=2.0 in /Users/darkmaster/anaconda3/lib/python3.10/site-packages (from aiohttp->datasets) (2.0.4)\n",
            "Requirement already satisfied: multidict<7.0,>=4.5 in /Users/darkmaster/anaconda3/lib/python3.10/site-packages (from aiohttp->datasets) (6.0.4)\n",
            "Requirement already satisfied: async-timeout<5.0,>=4.0.0a3 in /Users/darkmaster/anaconda3/lib/python3.10/site-packages (from aiohttp->datasets) (4.0.2)\n",
            "Requirement already satisfied: typing-extensions>=3.7.4.3 in /Users/darkmaster/anaconda3/lib/python3.10/site-packages (from huggingface-hub<1.0.0,>=0.11.0->datasets) (4.4.0)\n",
            "Requirement already satisfied: filelock in /Users/darkmaster/anaconda3/lib/python3.10/site-packages (from huggingface-hub<1.0.0,>=0.11.0->datasets) (3.9.0)\n",
            "Requirement already satisfied: urllib3<1.27,>=1.21.1 in /Users/darkmaster/anaconda3/lib/python3.10/site-packages (from requests>=2.19.0->datasets) (1.26.14)\n",
            "Requirement already satisfied: certifi>=2017.4.17 in /Users/darkmaster/anaconda3/lib/python3.10/site-packages (from requests>=2.19.0->datasets) (2022.12.7)\n",
            "Requirement already satisfied: idna<4,>=2.5 in /Users/darkmaster/anaconda3/lib/python3.10/site-packages (from requests>=2.19.0->datasets) (3.4)\n",
            "Requirement already satisfied: python-dateutil>=2.8.1 in /Users/darkmaster/anaconda3/lib/python3.10/site-packages (from pandas->datasets) (2.8.2)\n",
            "Requirement already satisfied: pytz>=2020.1 in /Users/darkmaster/anaconda3/lib/python3.10/site-packages (from pandas->datasets) (2022.7)\n",
            "Requirement already satisfied: six>=1.5 in /Users/darkmaster/anaconda3/lib/python3.10/site-packages (from python-dateutil>=2.8.1->pandas->datasets) (1.16.0)\n",
            "Requirement already satisfied: transformers in /Users/darkmaster/anaconda3/lib/python3.10/site-packages (4.24.0)\n",
            "Requirement already satisfied: huggingface-hub<1.0,>=0.10.0 in /Users/darkmaster/anaconda3/lib/python3.10/site-packages (from transformers) (0.15.1)\n",
            "Requirement already satisfied: pyyaml>=5.1 in /Users/darkmaster/anaconda3/lib/python3.10/site-packages (from transformers) (6.0)\n",
            "Requirement already satisfied: tqdm>=4.27 in /Users/darkmaster/anaconda3/lib/python3.10/site-packages (from transformers) (4.64.1)\n",
            "Requirement already satisfied: filelock in /Users/darkmaster/anaconda3/lib/python3.10/site-packages (from transformers) (3.9.0)\n",
            "Requirement already satisfied: requests in /Users/darkmaster/anaconda3/lib/python3.10/site-packages (from transformers) (2.28.1)\n",
            "Requirement already satisfied: tokenizers!=0.11.3,<0.14,>=0.11.1 in /Users/darkmaster/anaconda3/lib/python3.10/site-packages (from transformers) (0.11.4)\n",
            "Requirement already satisfied: numpy>=1.17 in /Users/darkmaster/anaconda3/lib/python3.10/site-packages (from transformers) (1.23.5)\n",
            "Requirement already satisfied: regex!=2019.12.17 in /Users/darkmaster/anaconda3/lib/python3.10/site-packages (from transformers) (2022.7.9)\n",
            "Requirement already satisfied: packaging>=20.0 in /Users/darkmaster/anaconda3/lib/python3.10/site-packages (from transformers) (22.0)\n",
            "Requirement already satisfied: fsspec in /Users/darkmaster/anaconda3/lib/python3.10/site-packages (from huggingface-hub<1.0,>=0.10.0->transformers) (2022.11.0)\n",
            "Requirement already satisfied: typing-extensions>=3.7.4.3 in /Users/darkmaster/anaconda3/lib/python3.10/site-packages (from huggingface-hub<1.0,>=0.10.0->transformers) (4.4.0)\n",
            "Requirement already satisfied: certifi>=2017.4.17 in /Users/darkmaster/anaconda3/lib/python3.10/site-packages (from requests->transformers) (2022.12.7)\n",
            "Requirement already satisfied: idna<4,>=2.5 in /Users/darkmaster/anaconda3/lib/python3.10/site-packages (from requests->transformers) (3.4)\n",
            "Requirement already satisfied: urllib3<1.27,>=1.21.1 in /Users/darkmaster/anaconda3/lib/python3.10/site-packages (from requests->transformers) (1.26.14)\n",
            "Requirement already satisfied: charset-normalizer<3,>=2 in /Users/darkmaster/anaconda3/lib/python3.10/site-packages (from requests->transformers) (2.0.4)\n",
            "Requirement already satisfied: seqeval in /Users/darkmaster/anaconda3/lib/python3.10/site-packages (1.2.2)\n",
            "Requirement already satisfied: numpy>=1.14.0 in /Users/darkmaster/anaconda3/lib/python3.10/site-packages (from seqeval) (1.23.5)\n",
            "Requirement already satisfied: scikit-learn>=0.21.3 in /Users/darkmaster/anaconda3/lib/python3.10/site-packages (from seqeval) (1.2.1)\n",
            "Requirement already satisfied: scipy>=1.3.2 in /Users/darkmaster/anaconda3/lib/python3.10/site-packages (from scikit-learn>=0.21.3->seqeval) (1.10.0)\n",
            "Requirement already satisfied: threadpoolctl>=2.0.0 in /Users/darkmaster/anaconda3/lib/python3.10/site-packages (from scikit-learn>=0.21.3->seqeval) (2.2.0)\n",
            "Requirement already satisfied: joblib>=1.1.1 in /Users/darkmaster/anaconda3/lib/python3.10/site-packages (from scikit-learn>=0.21.3->seqeval) (1.1.1)\n"
          ]
        }
      ],
      "source": [
        "# Intstall required libraries\n",
        "!pip install datasets\n",
        "!pip install transformers\n",
        "!pip install seqeval"
      ]
    },
    {
      "cell_type": "code",
      "execution_count": 48,
      "metadata": {
        "id": "-RfgYUJsUBdq"
      },
      "outputs": [],
      "source": [
        "# Import necessary libraries\n",
        "import re\n",
        "import pandas as pd\n",
        "import numpy as np\n",
        "import itertools\n",
        "from datasets import Dataset\n",
        "from datasets import load_metric\n",
        "from sklearn.model_selection import train_test_split\n",
        "from transformers import AutoTokenizer\n",
        "from transformers import AutoModelForTokenClassification, TrainingArguments, Trainer\n",
        "from transformers import DataCollatorForTokenClassification\n",
        "import torch"
      ]
    },
    {
      "cell_type": "code",
      "execution_count": 49,
      "metadata": {
        "id": "aHFFcCR1GrUi"
      },
      "outputs": [],
      "source": [
        "# Create necessary functions\n",
        "def tokenize_and_align_labels(examples):\n",
        "    label_all_tokens = True\n",
        "    tokenized_inputs = tokenizer(list(examples[\"tokens\"]), truncation=True, is_split_into_words=True)\n",
        "\n",
        "    labels = []\n",
        "    for i, label in enumerate(examples[f\"{task}_tags\"]):\n",
        "        word_ids = tokenized_inputs.word_ids(batch_index=i)\n",
        "        previous_word_idx = None\n",
        "        label_ids = []\n",
        "        for word_idx in word_ids:\n",
        "            if word_idx is None:\n",
        "                label_ids.append(-100)\n",
        "            elif label[word_idx] == '0':\n",
        "                label_ids.append(0)\n",
        "            elif word_idx != previous_word_idx:\n",
        "                label_ids.append(label_encoding_dict[label[word_idx]])\n",
        "            else:\n",
        "                label_ids.append(label_encoding_dict[label[word_idx]] if label_all_tokens else -100)\n",
        "            previous_word_idx = word_idx\n",
        "        labels.append(label_ids)\n",
        "        \n",
        "    tokenized_inputs[\"labels\"] = labels\n",
        "    return tokenized_inputs\n",
        "\n",
        "def compute_metrics(p):\n",
        "    predictions, labels = p\n",
        "    predictions = np.argmax(predictions, axis=2)\n",
        "\n",
        "    true_predictions = [[label_list[p] for (p, l) in zip(prediction, label) if l != -100] for prediction, label in zip(predictions, labels)]\n",
        "    true_labels = [[label_list[l] for (p, l) in zip(prediction, label) if l != -100] for prediction, label in zip(predictions, labels)]\n",
        "\n",
        "    results = metric.compute(predictions=true_predictions, references=true_labels)\n",
        "    return {\"precision\": results[\"overall_precision\"], \"recall\": results[\"overall_recall\"], \"f1\": results[\"overall_f1\"], \"accuracy\": results[\"overall_accuracy\"]}\n",
        "\n",
        "    \n",
        "def replace_entity(old_entity):\n",
        "    if \"POPULATION\" in old_entity or \"SAMPLE\" in old_entity:\n",
        "        entity = \"I-POPULATION\"\n",
        "    elif \"PARTICIPANT\" in old_entity:\n",
        "        entity = \"I-PARTICIPANT\"\n",
        "    elif \"INTERVENTION\" in old_entity:\n",
        "        entity = \"I-INTERVENTION\"\n",
        "    elif \"COMPAR\" in old_entity:\n",
        "        entity = \"I-COMPARISON\"\n",
        "    elif \"OUTCOME\" in old_entity:\n",
        "        entity = \"I-OUTCOME\"\n",
        "    elif bool(re.search('[a-zA-Z]', old_entity)) == False:\n",
        "        entity = \"\"\n",
        "    else:\n",
        "        entity = \"O\"\n",
        "    return(entity)"
      ]
    },
    {
      "cell_type": "code",
      "execution_count": 50,
      "metadata": {
        "id": "MB-WMPIeHlBE"
      },
      "outputs": [],
      "source": [
        "# Read the text data\n",
        "with open(\"../Datasets/pubmed_data.txt\") as f:\n",
        "    content = f.readlines()"
      ]
    },
    {
      "cell_type": "code",
      "execution_count": 51,
      "metadata": {},
      "outputs": [
        {
          "name": "stdout",
          "output_type": "stream",
          "text": [
            "369304\n"
          ]
        }
      ],
      "source": [
        "print(len(content))"
      ]
    },
    {
      "attachments": {},
      "cell_type": "markdown",
      "metadata": {
        "id": "hojkMgn8k3HA"
      },
      "source": [
        "### **DATA PREPARATION**\n",
        "Convert the text data to PICO BERT trainable data format"
      ]
    },
    {
      "attachments": {},
      "cell_type": "markdown",
      "metadata": {
        "id": "hjKierenlcCA"
      },
      "source": [
        "Convert the text file and seperate the following fields in seperate column in a dataframe\n",
        "\n",
        "* PMID\n",
        "* PICO_Entity\n",
        "* AOMRC Entity\n",
        "* Text"
      ]
    },
    {
      "cell_type": "code",
      "execution_count": 52,
      "metadata": {
        "id": "lr2eEW-qPuiA"
      },
      "outputs": [],
      "source": [
        "# Data preprocessing & manipulation\n",
        "content_df = pd.DataFrame()\n",
        "for i in range(10000):\n",
        "    if(\"###\" in content[i]):\n",
        "        content_df.loc[i, \"PMID\"] = content[i].split(\":\")[0].replace(\"#\", \"\")\n",
        "    elif(content[i] == \"\\n\"):\n",
        "        pass\n",
        "    else:\n",
        "        content_df.loc[i, \"PMID\"] = content_df.loc[i-1, \"PMID\"]\n",
        "        content_df.loc[i, \"PICO_Entity\"] = content[i].split(\"|\")[0]\n",
        "        content_df.loc[i, \"AOMRC_Entity\"] = content[i].split(\"|\")[1]\n",
        "        content_df.loc[i, \"Text\"] = content[i].split(\"|\")[2]"
      ]
    },
    {
      "cell_type": "code",
      "execution_count": 53,
      "metadata": {
        "colab": {
          "base_uri": "https://localhost:8080/",
          "height": 206
        },
        "id": "hhsVnmOmMVPE",
        "outputId": "f841b024-8f82-4782-87d8-30cd3206af6c"
      },
      "outputs": [
        {
          "data": {
            "text/html": [
              "<div>\n",
              "<style scoped>\n",
              "    .dataframe tbody tr th:only-of-type {\n",
              "        vertical-align: middle;\n",
              "    }\n",
              "\n",
              "    .dataframe tbody tr th {\n",
              "        vertical-align: top;\n",
              "    }\n",
              "\n",
              "    .dataframe thead th {\n",
              "        text-align: right;\n",
              "    }\n",
              "</style>\n",
              "<table border=\"1\" class=\"dataframe\">\n",
              "  <thead>\n",
              "    <tr style=\"text-align: right;\">\n",
              "      <th></th>\n",
              "      <th>PMID</th>\n",
              "      <th>PICO_Entity</th>\n",
              "      <th>AOMRC_Entity</th>\n",
              "      <th>Text</th>\n",
              "    </tr>\n",
              "  </thead>\n",
              "  <tbody>\n",
              "    <tr>\n",
              "      <th>0</th>\n",
              "      <td>28628768</td>\n",
              "      <td>NaN</td>\n",
              "      <td>NaN</td>\n",
              "      <td>NaN</td>\n",
              "    </tr>\n",
              "    <tr>\n",
              "      <th>1</th>\n",
              "      <td>28628768</td>\n",
              "      <td>OBJECTIVE</td>\n",
              "      <td>A</td>\n",
              "      <td>To test the efficacy of a pregnancy adapted ve...</td>\n",
              "    </tr>\n",
              "    <tr>\n",
              "      <th>2</th>\n",
              "      <td>28628768</td>\n",
              "      <td>SETTING</td>\n",
              "      <td>M</td>\n",
              "      <td>Online and telephone .\\n</td>\n",
              "    </tr>\n",
              "    <tr>\n",
              "      <th>3</th>\n",
              "      <td>28628768</td>\n",
              "      <td>POPULATION OR SAMPLE</td>\n",
              "      <td>P</td>\n",
              "      <td>Self-referred pregnant women ( gestational wee...</td>\n",
              "    </tr>\n",
              "    <tr>\n",
              "      <th>4</th>\n",
              "      <td>28628768</td>\n",
              "      <td>METHODS</td>\n",
              "      <td>M</td>\n",
              "      <td>@ pregnant women ( gestational week @ ) with m...</td>\n",
              "    </tr>\n",
              "  </tbody>\n",
              "</table>\n",
              "</div>"
            ],
            "text/plain": [
              "       PMID           PICO_Entity AOMRC_Entity  \\\n",
              "0  28628768                   NaN          NaN   \n",
              "1  28628768             OBJECTIVE            A   \n",
              "2  28628768               SETTING            M   \n",
              "3  28628768  POPULATION OR SAMPLE            P   \n",
              "4  28628768               METHODS            M   \n",
              "\n",
              "                                                Text  \n",
              "0                                                NaN  \n",
              "1  To test the efficacy of a pregnancy adapted ve...  \n",
              "2                           Online and telephone .\\n  \n",
              "3  Self-referred pregnant women ( gestational wee...  \n",
              "4  @ pregnant women ( gestational week @ ) with m...  "
            ]
          },
          "execution_count": 53,
          "metadata": {},
          "output_type": "execute_result"
        }
      ],
      "source": [
        "# Display manipulated data | samples\n",
        "content_df.head()"
      ]
    },
    {
      "attachments": {},
      "cell_type": "markdown",
      "metadata": {
        "id": "yUnjPbsEYLIj"
      },
      "source": [
        "### **DATA CLEANING**\n",
        "You can there are NAN's occupied with the columns"
      ]
    },
    {
      "cell_type": "code",
      "execution_count": 54,
      "metadata": {
        "id": "NXFhiLKcUvBu"
      },
      "outputs": [],
      "source": [
        "# Remove NAN's\n",
        "content_df = content_df[pd.notnull(content_df['Text'])]"
      ]
    },
    {
      "cell_type": "code",
      "execution_count": 55,
      "metadata": {
        "colab": {
          "base_uri": "https://localhost:8080/",
          "height": 206
        },
        "id": "3TvHdjFMMwPc",
        "outputId": "81bce8ef-7cbd-4f1f-c970-cad136b0cca5"
      },
      "outputs": [
        {
          "data": {
            "text/html": [
              "<div>\n",
              "<style scoped>\n",
              "    .dataframe tbody tr th:only-of-type {\n",
              "        vertical-align: middle;\n",
              "    }\n",
              "\n",
              "    .dataframe tbody tr th {\n",
              "        vertical-align: top;\n",
              "    }\n",
              "\n",
              "    .dataframe thead th {\n",
              "        text-align: right;\n",
              "    }\n",
              "</style>\n",
              "<table border=\"1\" class=\"dataframe\">\n",
              "  <thead>\n",
              "    <tr style=\"text-align: right;\">\n",
              "      <th></th>\n",
              "      <th>PMID</th>\n",
              "      <th>PICO_Entity</th>\n",
              "      <th>AOMRC_Entity</th>\n",
              "      <th>Text</th>\n",
              "    </tr>\n",
              "  </thead>\n",
              "  <tbody>\n",
              "    <tr>\n",
              "      <th>1</th>\n",
              "      <td>28628768</td>\n",
              "      <td>OBJECTIVE</td>\n",
              "      <td>A</td>\n",
              "      <td>To test the efficacy of a pregnancy adapted ve...</td>\n",
              "    </tr>\n",
              "    <tr>\n",
              "      <th>2</th>\n",
              "      <td>28628768</td>\n",
              "      <td>SETTING</td>\n",
              "      <td>M</td>\n",
              "      <td>Online and telephone .\\n</td>\n",
              "    </tr>\n",
              "    <tr>\n",
              "      <th>3</th>\n",
              "      <td>28628768</td>\n",
              "      <td>POPULATION OR SAMPLE</td>\n",
              "      <td>P</td>\n",
              "      <td>Self-referred pregnant women ( gestational wee...</td>\n",
              "    </tr>\n",
              "    <tr>\n",
              "      <th>4</th>\n",
              "      <td>28628768</td>\n",
              "      <td>METHODS</td>\n",
              "      <td>M</td>\n",
              "      <td>@ pregnant women ( gestational week @ ) with m...</td>\n",
              "    </tr>\n",
              "    <tr>\n",
              "      <th>5</th>\n",
              "      <td>28628768</td>\n",
              "      <td>MAIN OUTCOME MEASURES</td>\n",
              "      <td>O</td>\n",
              "      <td>The primary outcome was depressive symptoms me...</td>\n",
              "    </tr>\n",
              "  </tbody>\n",
              "</table>\n",
              "</div>"
            ],
            "text/plain": [
              "       PMID            PICO_Entity AOMRC_Entity  \\\n",
              "1  28628768              OBJECTIVE            A   \n",
              "2  28628768                SETTING            M   \n",
              "3  28628768   POPULATION OR SAMPLE            P   \n",
              "4  28628768                METHODS            M   \n",
              "5  28628768  MAIN OUTCOME MEASURES            O   \n",
              "\n",
              "                                                Text  \n",
              "1  To test the efficacy of a pregnancy adapted ve...  \n",
              "2                           Online and telephone .\\n  \n",
              "3  Self-referred pregnant women ( gestational wee...  \n",
              "4  @ pregnant women ( gestational week @ ) with m...  \n",
              "5  The primary outcome was depressive symptoms me...  "
            ]
          },
          "execution_count": 55,
          "metadata": {},
          "output_type": "execute_result"
        }
      ],
      "source": [
        "# Display cleaned data | samples\n",
        "content_df.head()"
      ]
    },
    {
      "attachments": {},
      "cell_type": "markdown",
      "metadata": {
        "id": "FeUOp1IvYaC0"
      },
      "source": [
        "### **DATA CONVERSION**\n",
        "Convert the data with the required format and rename"
      ]
    },
    {
      "cell_type": "code",
      "execution_count": 56,
      "metadata": {
        "id": "8Zn49dZDMy40"
      },
      "outputs": [],
      "source": [
        "# Datatype formating and renaming\n",
        "content_df[\"Text\"] = content_df[\"Text\"].astype(str)\n",
        "content_df[\"Text\"] = content_df[\"Text\"].apply(lambda x:x.strip())\n",
        "content_df = content_df[[\"PMID\", \"Text\", \"PICO_Entity\"]]\n",
        "content_df.rename(columns = {'Text':'tokens', 'PICO_Entity':'ner_tags'}, inplace = True)\n",
        "content_df = content_df.reset_index(drop=True)"
      ]
    },
    {
      "cell_type": "code",
      "execution_count": 57,
      "metadata": {
        "colab": {
          "base_uri": "https://localhost:8080/",
          "height": 206
        },
        "id": "vR4CCMtQNFnK",
        "outputId": "afa2f92f-4728-4ec8-a06c-dc3d54d914dd"
      },
      "outputs": [
        {
          "data": {
            "text/html": [
              "<div>\n",
              "<style scoped>\n",
              "    .dataframe tbody tr th:only-of-type {\n",
              "        vertical-align: middle;\n",
              "    }\n",
              "\n",
              "    .dataframe tbody tr th {\n",
              "        vertical-align: top;\n",
              "    }\n",
              "\n",
              "    .dataframe thead th {\n",
              "        text-align: right;\n",
              "    }\n",
              "</style>\n",
              "<table border=\"1\" class=\"dataframe\">\n",
              "  <thead>\n",
              "    <tr style=\"text-align: right;\">\n",
              "      <th></th>\n",
              "      <th>PMID</th>\n",
              "      <th>tokens</th>\n",
              "      <th>ner_tags</th>\n",
              "    </tr>\n",
              "  </thead>\n",
              "  <tbody>\n",
              "    <tr>\n",
              "      <th>0</th>\n",
              "      <td>28628768</td>\n",
              "      <td>To test the efficacy of a pregnancy adapted ve...</td>\n",
              "      <td>OBJECTIVE</td>\n",
              "    </tr>\n",
              "    <tr>\n",
              "      <th>1</th>\n",
              "      <td>28628768</td>\n",
              "      <td>Online and telephone .</td>\n",
              "      <td>SETTING</td>\n",
              "    </tr>\n",
              "    <tr>\n",
              "      <th>2</th>\n",
              "      <td>28628768</td>\n",
              "      <td>Self-referred pregnant women ( gestational wee...</td>\n",
              "      <td>POPULATION OR SAMPLE</td>\n",
              "    </tr>\n",
              "    <tr>\n",
              "      <th>3</th>\n",
              "      <td>28628768</td>\n",
              "      <td>@ pregnant women ( gestational week @ ) with m...</td>\n",
              "      <td>METHODS</td>\n",
              "    </tr>\n",
              "    <tr>\n",
              "      <th>4</th>\n",
              "      <td>28628768</td>\n",
              "      <td>The primary outcome was depressive symptoms me...</td>\n",
              "      <td>MAIN OUTCOME MEASURES</td>\n",
              "    </tr>\n",
              "  </tbody>\n",
              "</table>\n",
              "</div>"
            ],
            "text/plain": [
              "       PMID                                             tokens  \\\n",
              "0  28628768  To test the efficacy of a pregnancy adapted ve...   \n",
              "1  28628768                             Online and telephone .   \n",
              "2  28628768  Self-referred pregnant women ( gestational wee...   \n",
              "3  28628768  @ pregnant women ( gestational week @ ) with m...   \n",
              "4  28628768  The primary outcome was depressive symptoms me...   \n",
              "\n",
              "                ner_tags  \n",
              "0              OBJECTIVE  \n",
              "1                SETTING  \n",
              "2   POPULATION OR SAMPLE  \n",
              "3                METHODS  \n",
              "4  MAIN OUTCOME MEASURES  "
            ]
          },
          "execution_count": 57,
          "metadata": {},
          "output_type": "execute_result"
        }
      ],
      "source": [
        "# Display formatted samples\n",
        "content_df.head()"
      ]
    },
    {
      "attachments": {},
      "cell_type": "markdown",
      "metadata": {
        "id": "gAxqpt2g5cok"
      },
      "source": [
        "### **DATA PREPROCESSING**\n",
        "Convert the data required parameters that needs to train the model"
      ]
    },
    {
      "cell_type": "code",
      "execution_count": 58,
      "metadata": {
        "id": "ffCWW5ABShQm"
      },
      "outputs": [],
      "source": [
        "# Calculate token length\n",
        "content_df[\"token_len\"] = content_df[\"tokens\"].apply(lambda x: len(x.split()))"
      ]
    },
    {
      "cell_type": "code",
      "execution_count": 59,
      "metadata": {
        "colab": {
          "base_uri": "https://localhost:8080/"
        },
        "id": "oj2SgMnDSql9",
        "outputId": "12e7d554-c3c9-4ee3-9e9f-2977c952415a"
      },
      "outputs": [
        {
          "name": "stdout",
          "output_type": "stream",
          "text": [
            "       PMID                                             tokens  \\\n",
            "0  28628768  To test the efficacy of a pregnancy adapted ve...   \n",
            "1  28628768                             Online and telephone .   \n",
            "2  28628768  Self-referred pregnant women ( gestational wee...   \n",
            "3  28628768  @ pregnant women ( gestational week @ ) with m...   \n",
            "4  28628768  The primary outcome was depressive symptoms me...   \n",
            "\n",
            "                ner_tags  token_len  \n",
            "0              OBJECTIVE         29  \n",
            "1                SETTING          4  \n",
            "2   POPULATION OR SAMPLE         17  \n",
            "3                METHODS         36  \n",
            "4  MAIN OUTCOME MEASURES         18  \n"
          ]
        }
      ],
      "source": [
        "# Display samples\n",
        "print(content_df.head())"
      ]
    },
    {
      "cell_type": "code",
      "execution_count": 60,
      "metadata": {
        "id": "oayXZNp3SvON"
      },
      "outputs": [],
      "source": [
        "# Replace entities with required entity names\n",
        "content_df[\"ner_tags\"] = content_df[\"ner_tags\"].apply(lambda x: replace_entity(x))"
      ]
    },
    {
      "cell_type": "code",
      "execution_count": 61,
      "metadata": {
        "colab": {
          "base_uri": "https://localhost:8080/",
          "height": 206
        },
        "id": "HxaXJW56S4aM",
        "outputId": "90f2c0a7-2eb9-4524-e162-811065779b44"
      },
      "outputs": [
        {
          "data": {
            "text/html": [
              "<div>\n",
              "<style scoped>\n",
              "    .dataframe tbody tr th:only-of-type {\n",
              "        vertical-align: middle;\n",
              "    }\n",
              "\n",
              "    .dataframe tbody tr th {\n",
              "        vertical-align: top;\n",
              "    }\n",
              "\n",
              "    .dataframe thead th {\n",
              "        text-align: right;\n",
              "    }\n",
              "</style>\n",
              "<table border=\"1\" class=\"dataframe\">\n",
              "  <thead>\n",
              "    <tr style=\"text-align: right;\">\n",
              "      <th></th>\n",
              "      <th>PMID</th>\n",
              "      <th>tokens</th>\n",
              "      <th>ner_tags</th>\n",
              "      <th>token_len</th>\n",
              "    </tr>\n",
              "  </thead>\n",
              "  <tbody>\n",
              "    <tr>\n",
              "      <th>0</th>\n",
              "      <td>28628768</td>\n",
              "      <td>To test the efficacy of a pregnancy adapted ve...</td>\n",
              "      <td>O</td>\n",
              "      <td>29</td>\n",
              "    </tr>\n",
              "    <tr>\n",
              "      <th>1</th>\n",
              "      <td>28628768</td>\n",
              "      <td>Online and telephone .</td>\n",
              "      <td>O</td>\n",
              "      <td>4</td>\n",
              "    </tr>\n",
              "    <tr>\n",
              "      <th>2</th>\n",
              "      <td>28628768</td>\n",
              "      <td>Self-referred pregnant women ( gestational wee...</td>\n",
              "      <td>I-POPULATION</td>\n",
              "      <td>17</td>\n",
              "    </tr>\n",
              "    <tr>\n",
              "      <th>3</th>\n",
              "      <td>28628768</td>\n",
              "      <td>@ pregnant women ( gestational week @ ) with m...</td>\n",
              "      <td>O</td>\n",
              "      <td>36</td>\n",
              "    </tr>\n",
              "    <tr>\n",
              "      <th>4</th>\n",
              "      <td>28628768</td>\n",
              "      <td>The primary outcome was depressive symptoms me...</td>\n",
              "      <td>I-OUTCOME</td>\n",
              "      <td>18</td>\n",
              "    </tr>\n",
              "  </tbody>\n",
              "</table>\n",
              "</div>"
            ],
            "text/plain": [
              "       PMID                                             tokens      ner_tags  \\\n",
              "0  28628768  To test the efficacy of a pregnancy adapted ve...             O   \n",
              "1  28628768                             Online and telephone .             O   \n",
              "2  28628768  Self-referred pregnant women ( gestational wee...  I-POPULATION   \n",
              "3  28628768  @ pregnant women ( gestational week @ ) with m...             O   \n",
              "4  28628768  The primary outcome was depressive symptoms me...     I-OUTCOME   \n",
              "\n",
              "   token_len  \n",
              "0         29  \n",
              "1          4  \n",
              "2         17  \n",
              "3         36  \n",
              "4         18  "
            ]
          },
          "execution_count": 61,
          "metadata": {},
          "output_type": "execute_result"
        }
      ],
      "source": [
        "# Display samples\n",
        "content_df.head()"
      ]
    },
    {
      "cell_type": "code",
      "execution_count": 62,
      "metadata": {
        "id": "oD9cttEaS888"
      },
      "outputs": [],
      "source": [
        "# Iterate entities to all words/token\n",
        "for i in range(len(content_df)):\n",
        "    content_df.loc[i, \"ner_tags\"] = str([content_df[\"ner_tags\"][i]] * content_df[\"token_len\"][i])\n",
        "    content_df.loc[i, \"tokens\"] = str(content_df[\"tokens\"][i].split())"
      ]
    },
    {
      "cell_type": "code",
      "execution_count": 63,
      "metadata": {
        "id": "l4pFlAL17XdC"
      },
      "outputs": [],
      "source": [
        "#content_df = pd.read_excel(\"df.xlsx\")"
      ]
    },
    {
      "cell_type": "code",
      "execution_count": 64,
      "metadata": {
        "id": "-B_TfpN1l4jT"
      },
      "outputs": [],
      "source": [
        "# Converts string to list of values\n",
        "content_df[\"ner_tags\"] = content_df[\"ner_tags\"].apply(lambda x:eval(x))\n",
        "content_df[\"tokens\"] = content_df[\"tokens\"].apply(lambda x:eval(x))"
      ]
    },
    {
      "cell_type": "code",
      "execution_count": 65,
      "metadata": {
        "id": "YTvG8Ar_nks1"
      },
      "outputs": [],
      "source": [
        "# Group by PMID\n",
        "content_df = content_df.groupby('PMID').agg(lambda x: x.to_list())"
      ]
    },
    {
      "cell_type": "code",
      "execution_count": 66,
      "metadata": {
        "id": "OmRm2q-wnowI"
      },
      "outputs": [],
      "source": [
        "# Combine list of list\n",
        "content_df[\"tokens\"] = content_df[\"tokens\"].apply(lambda x:list(itertools.chain.from_iterable(x)))\n",
        "content_df[\"ner_tags\"] = content_df[\"ner_tags\"].apply(lambda x:list(itertools.chain.from_iterable(x)))"
      ]
    },
    {
      "cell_type": "code",
      "execution_count": 67,
      "metadata": {
        "id": "HhD5EHmDnsiA"
      },
      "outputs": [],
      "source": [
        "# Reset dataframe\n",
        "content_df = content_df.reset_index(drop=True)"
      ]
    },
    {
      "cell_type": "code",
      "execution_count": 68,
      "metadata": {
        "colab": {
          "base_uri": "https://localhost:8080/",
          "height": 337
        },
        "id": "tst4RgvgZIje",
        "outputId": "4189fd48-5826-49f7-a242-139f6229c617"
      },
      "outputs": [
        {
          "data": {
            "text/html": [
              "<div>\n",
              "<style scoped>\n",
              "    .dataframe tbody tr th:only-of-type {\n",
              "        vertical-align: middle;\n",
              "    }\n",
              "\n",
              "    .dataframe tbody tr th {\n",
              "        vertical-align: top;\n",
              "    }\n",
              "\n",
              "    .dataframe thead th {\n",
              "        text-align: right;\n",
              "    }\n",
              "</style>\n",
              "<table border=\"1\" class=\"dataframe\">\n",
              "  <thead>\n",
              "    <tr style=\"text-align: right;\">\n",
              "      <th></th>\n",
              "      <th>tokens</th>\n",
              "      <th>ner_tags</th>\n",
              "      <th>token_len</th>\n",
              "    </tr>\n",
              "  </thead>\n",
              "  <tbody>\n",
              "    <tr>\n",
              "      <th>0</th>\n",
              "      <td>[Reviews, of, the, quality, of, reporting, of,...</td>\n",
              "      <td>[O, O, O, O, O, O, O, O, O, O, O, O, O, O, O, ...</td>\n",
              "      <td>[22, 40, 22, 7, 25, 16, 15, 15, 21, 22, 26, 13...</td>\n",
              "    </tr>\n",
              "    <tr>\n",
              "      <th>1</th>\n",
              "      <td>[Fan, therapy, is, often, suggested, for, reli...</td>\n",
              "      <td>[O, O, O, O, O, O, O, O, O, O, O, O, O, O, O, ...</td>\n",
              "      <td>[25, 29, 23, 17, 32, 10, 50, 25, 22, 12, 9]</td>\n",
              "    </tr>\n",
              "    <tr>\n",
              "      <th>2</th>\n",
              "      <td>[To, compare, the, effects, of, nut-based, sna...</td>\n",
              "      <td>[O, O, O, O, O, O, O, O, O, O, O, O, O, O, O, ...</td>\n",
              "      <td>[34, 10, 6, 18, 13, 15, 52, 25, 42]</td>\n",
              "    </tr>\n",
              "    <tr>\n",
              "      <th>3</th>\n",
              "      <td>[Increase, physical, activity, in, health, car...</td>\n",
              "      <td>[O, O, O, O, O, O, O, O, O, O, O, O, O, O, O, ...</td>\n",
              "      <td>[26, 5, 4, 17, 41, 10, 26, 21, 17, 14, 18, 41,...</td>\n",
              "    </tr>\n",
              "    <tr>\n",
              "      <th>4</th>\n",
              "      <td>[To, investigate, the, effect, of, a, @, senso...</td>\n",
              "      <td>[O, O, O, O, O, O, O, O, O, O, O, O, O, O, O, ...</td>\n",
              "      <td>[25, 28, 20, 36, 30, 34, 29, 24, 30]</td>\n",
              "    </tr>\n",
              "  </tbody>\n",
              "</table>\n",
              "</div>"
            ],
            "text/plain": [
              "                                              tokens  \\\n",
              "0  [Reviews, of, the, quality, of, reporting, of,...   \n",
              "1  [Fan, therapy, is, often, suggested, for, reli...   \n",
              "2  [To, compare, the, effects, of, nut-based, sna...   \n",
              "3  [Increase, physical, activity, in, health, car...   \n",
              "4  [To, investigate, the, effect, of, a, @, senso...   \n",
              "\n",
              "                                            ner_tags  \\\n",
              "0  [O, O, O, O, O, O, O, O, O, O, O, O, O, O, O, ...   \n",
              "1  [O, O, O, O, O, O, O, O, O, O, O, O, O, O, O, ...   \n",
              "2  [O, O, O, O, O, O, O, O, O, O, O, O, O, O, O, ...   \n",
              "3  [O, O, O, O, O, O, O, O, O, O, O, O, O, O, O, ...   \n",
              "4  [O, O, O, O, O, O, O, O, O, O, O, O, O, O, O, ...   \n",
              "\n",
              "                                           token_len  \n",
              "0  [22, 40, 22, 7, 25, 16, 15, 15, 21, 22, 26, 13...  \n",
              "1        [25, 29, 23, 17, 32, 10, 50, 25, 22, 12, 9]  \n",
              "2                [34, 10, 6, 18, 13, 15, 52, 25, 42]  \n",
              "3  [26, 5, 4, 17, 41, 10, 26, 21, 17, 14, 18, 41,...  \n",
              "4               [25, 28, 20, 36, 30, 34, 29, 24, 30]  "
            ]
          },
          "execution_count": 68,
          "metadata": {},
          "output_type": "execute_result"
        }
      ],
      "source": [
        "# Display preprocessed data | samples\n",
        "content_df.head()"
      ]
    },
    {
      "cell_type": "code",
      "execution_count": 69,
      "metadata": {
        "id": "eo7ZJ4AlAPG-"
      },
      "outputs": [],
      "source": [
        "# Save preprocessed data\n",
        "content_df.to_excel(\"../Datasets/preprocessed_df.xlsx\")"
      ]
    },
    {
      "attachments": {},
      "cell_type": "markdown",
      "metadata": {
        "id": "51s01A3pXvGR"
      },
      "source": [
        "**TEST / TRAIN SPLIT**\n",
        "---\n",
        "Split the train data set into two sets by the ratio 8:2. and we can furthur evaluate the model performance"
      ]
    },
    {
      "cell_type": "code",
      "execution_count": 70,
      "metadata": {
        "id": "3UF0EAQMnvNN"
      },
      "outputs": [],
      "source": [
        "#Test train split\n",
        "train, test = train_test_split(content_df, test_size=0.2, shuffle=False, random_state=1)\n",
        "\n",
        "train = train.reset_index(drop=True)\n",
        "test = test.reset_index(drop=True)\n",
        "\n",
        "train_df = train\n",
        "test_df = test"
      ]
    },
    {
      "cell_type": "code",
      "execution_count": 71,
      "metadata": {
        "colab": {
          "base_uri": "https://localhost:8080/"
        },
        "id": "BrMNGk02o6Sr",
        "outputId": "5590a0b2-ff0d-484a-99e6-2027639cb754"
      },
      "outputs": [
        {
          "name": "stdout",
          "output_type": "stream",
          "text": [
            "518\n",
            "130\n"
          ]
        }
      ],
      "source": [
        "# Print Shape\n",
        "print(len(train_df))\n",
        "print(len(test_df))"
      ]
    },
    {
      "cell_type": "code",
      "execution_count": 72,
      "metadata": {
        "id": "RrWwN9V4n0qg"
      },
      "outputs": [],
      "source": [
        "# Label to numeric representation\n",
        "label_list = ['O','I-POPULATION', 'I-PARTICIPANT','I-INTERVENTION', 'I-COMPARISON','I-OUTCOME']\n",
        "label_encoding_dict = {'O': 0, 'I-POPULATION': 1, 'I-PARTICIPANT': 2, 'I-INTERVENTION': 3, 'I-COMPARISON': 4, 'I-OUTCOME': 5}"
      ]
    },
    {
      "attachments": {},
      "cell_type": "markdown",
      "metadata": {
        "id": "jd4WSIvlpBEH"
      },
      "source": [
        "**MODEL INITIALIZATION**\n",
        "---\n",
        "Initialize the BERT model. Define the Task Name, Model, Tokenizer"
      ]
    },
    {
      "cell_type": "code",
      "execution_count": 73,
      "metadata": {
        "colab": {
          "base_uri": "https://localhost:8080/",
          "height": 288,
          "referenced_widgets": [
            "e2f8812504b7417dbe4b2119073ec38b",
            "80c807f2c6a946febc68e60fd7ecc0ac",
            "f3f0ba366de4488aa6def331aa0d81ef",
            "c0c695e236bb437facf97113da1ddc86",
            "7228282ceb3c483bba41992f36a700a9",
            "2ab1ee8c46614305a50d701368c78373",
            "c705c92dfac64e8582c04a7733e6f790",
            "c99afbc638c64fbf851d350e04c7483c",
            "a8062264d41847fba8cb6f9082abaeeb",
            "57cf1e5549f249e3991894fae3e6c5db",
            "e1b975be23524a168516129c8c10fe8e",
            "68a268f78d2144cf99281a959e30708b",
            "9a90aa68d59749b18fb3acfb94e13b10",
            "62ad488ef39549a89471eea552813f7f",
            "9bc89557863741a0a521577bdd934e57",
            "8c353477973742edbacd17e9f352a928",
            "68e1b7ba339140a89709a33115c9ad7c",
            "7bbe6e1701034e168f530d82e3b6e0fc",
            "6e6d85096353400fbdabc03d75ba7b24",
            "d2fa8a76401f4ce9895f6201d3e03134",
            "993a642dfea94fd9b2ad437af3dc4a45",
            "50769858dd68421cb7ac60e30b0afdde",
            "efb2f84929654752b15ea4475fd6c2ed",
            "2cb5acd8808841fcb20e82f74d6de5aa",
            "47eb282bbb1b49b698d330a57e7ba796",
            "7046bd8c36d943b6a58fb5bf24d66a76",
            "0c25df983fe249ae8b72de91d7f551be",
            "0db743996a8e4035a8438a935c0d8409",
            "2c3ab5e9ecfb4409bf9a3d8b61660cdb",
            "a224b38f997546b89864115f0dae8d2c",
            "bb6b69e490354d879930f7d85a53c73d",
            "2a7bf0d967b2420bacac08ebb7a85d4c",
            "1cacd63abb2642ed9fb6bce8e1968550",
            "c417412a013c4f188d53067365079ea5",
            "62a7dd1026ef408a875c626dac8cba38",
            "96dac42ffebd45b2a9c9111cf87ccb09",
            "79fb83c9dffb426ea1b273019484f218",
            "0fb3de6688e948eab786fb0665881b9d",
            "ff66874256844c9e9a9edba1fc23d070",
            "e52d0890cd954f528395ee059b3874a8",
            "014e392d5f044855aecd78b12284bcf2",
            "33dea69b9ed247348a88dd1d5df9eef8",
            "b986a54c2c104ad391d500080b8294d6",
            "e565a2ed2a35423d8cc25b35123bfc89",
            "53827e4016a949e0bfc7c11598cb4c0d",
            "1edcd0a1332e42ee8dac0284f33b961d",
            "da1bea0fa74449b180c572be97798266",
            "e1f61ae9f81847af8ad676a561cf883c",
            "d9ac790aeaa54d1db3399ae751360805",
            "a07115f83bc24c738c0eacd1b3ad0da4",
            "40c810a10f674029a3ca0defabf23820",
            "05744626cfae443a98a5330c415a4208",
            "1807a0ddc9c14daeacdfeb32cbe1ca2a",
            "980171f767524e89ad74ab7d9ea10b0a",
            "975b46f6c13348e49dd04d0c42aa2b7a"
          ]
        },
        "id": "3pqIHeSmpC6F",
        "outputId": "29cc76a9-03f3-4cda-c63d-4c7c30be3390"
      },
      "outputs": [
        {
          "name": "stderr",
          "output_type": "stream",
          "text": [
            "Some weights of the model checkpoint at distilbert-base-uncased were not used when initializing DistilBertForTokenClassification: ['vocab_projector.bias', 'vocab_projector.weight', 'vocab_transform.bias', 'vocab_layer_norm.weight', 'vocab_layer_norm.bias', 'vocab_transform.weight']\n",
            "- This IS expected if you are initializing DistilBertForTokenClassification from the checkpoint of a model trained on another task or with another architecture (e.g. initializing a BertForSequenceClassification model from a BertForPreTraining model).\n",
            "- This IS NOT expected if you are initializing DistilBertForTokenClassification from the checkpoint of a model that you expect to be exactly identical (initializing a BertForSequenceClassification model from a BertForSequenceClassification model).\n",
            "Some weights of DistilBertForTokenClassification were not initialized from the model checkpoint at distilbert-base-uncased and are newly initialized: ['classifier.weight', 'classifier.bias']\n",
            "You should probably TRAIN this model on a down-stream task to be able to use it for predictions and inference.\n"
          ]
        }
      ],
      "source": [
        "# Initialize the BERT model\n",
        "task = \"ner\" \n",
        "model_checkpoint = \"distilbert-base-uncased\"\n",
        "batch_size = 16\n",
        "model = AutoModelForTokenClassification.from_pretrained(model_checkpoint, num_labels=len(label_list))\n",
        "\n",
        "# Initialize pretrained tokenizer\n",
        "tokenizer = AutoTokenizer.from_pretrained(model_checkpoint) \n",
        "\n",
        "data_collator = DataCollatorForTokenClassification(tokenizer) #Some random data enhancements"
      ]
    },
    {
      "attachments": {},
      "cell_type": "markdown",
      "metadata": {
        "id": "yEq3IPs4pPxA"
      },
      "source": [
        "**TOKENIZATION**\n",
        "---\n",
        "Tokenize and embed the dataset with pretrained BERT"
      ]
    },
    {
      "cell_type": "code",
      "execution_count": 74,
      "metadata": {
        "colab": {
          "base_uri": "https://localhost:8080/",
          "height": 81,
          "referenced_widgets": [
            "931a74dc6b9b4025ac5c08db76f13e1b",
            "52b8978f041b4d8a8ad1edddc95f3853",
            "992dc91371654d6b9a4c5695004a6a53",
            "52e5f89e6bd340b7b7ffe9b7181e05ae",
            "0228b1c233964d008debe668738b62e4",
            "09861bf90fae41b1af04651164531ce8",
            "4dff7c5ce7ea4a7aa8b53621ff1f041a",
            "2849cc9f0dae4ab0bdd4684d3ea5360a",
            "c634b292db8d46f5aca0c684a54d0fb5",
            "625b5f06561e4e7d8be6b31321fdd7d7",
            "c25e5c58a0c14a598abed7d449a82c40",
            "08567555ce0840fab6cbdad1c6aebdf7",
            "011c2cea381d469d8c3f80559fa110f5",
            "36e256c23071414089e150e7e198e99d",
            "15d4cf3412d04a90862185bfbac84f30",
            "e979cd90cf884fcfa983b68e2aab5806",
            "b3d77b188d1842ac8894d1c543191be9",
            "11ecc7214c3b4302a019e0e91f8d9e79",
            "5637330169294ccfb11d730f6dff2ecb",
            "6d129a64c3934277a016f16622fc44e8",
            "57ebfb57b4f043d5904f09c2bba62c00",
            "1cf645157b294dd89bcc518568671f0e"
          ]
        },
        "id": "r2r26B7YoBko",
        "outputId": "0a1261f3-a018-4b59-9dba-7c2456824064"
      },
      "outputs": [
        {
          "data": {
            "application/vnd.jupyter.widget-view+json": {
              "model_id": "0ca11e5b8a8e452092fa96a04ef525d4",
              "version_major": 2,
              "version_minor": 0
            },
            "text/plain": [
              "Map:   0%|          | 0/518 [00:00<?, ? examples/s]"
            ]
          },
          "metadata": {},
          "output_type": "display_data"
        },
        {
          "data": {
            "application/vnd.jupyter.widget-view+json": {
              "model_id": "8b18a4f5c9ef4908948c5cea220a2ec8",
              "version_major": 2,
              "version_minor": 0
            },
            "text/plain": [
              "Map:   0%|          | 0/130 [00:00<?, ? examples/s]"
            ]
          },
          "metadata": {},
          "output_type": "display_data"
        }
      ],
      "source": [
        "train_dataset = Dataset.from_pandas(train_df)\n",
        "test_dataset = Dataset.from_pandas(test_df)\n",
        "\n",
        "train_tokenized_datasets = train_dataset.map(tokenize_and_align_labels, batched=True)\n",
        "test_tokenized_datasets = test_dataset.map(tokenize_and_align_labels, batched=True)"
      ]
    },
    {
      "attachments": {},
      "cell_type": "markdown",
      "metadata": {
        "id": "BDYJ8yh2pZMT"
      },
      "source": [
        "**HYPER PARAMETER TURNING**\n",
        "---\n",
        "Hyperparameters - We can iterate and tune the model with these parameters for better results"
      ]
    },
    {
      "cell_type": "code",
      "execution_count": 75,
      "metadata": {
        "colab": {
          "base_uri": "https://localhost:8080/",
          "height": 105,
          "referenced_widgets": [
            "fc6f93c403a041cead3bfb6b0841f123",
            "b2746642a2a94d79b8fbf176fbf8a8f2",
            "99da3dcf00ba46bba9ace465d63a2f36",
            "7d3bedc944604b768324131848c2c1be",
            "c08072d6a8234f42a0a22eb49504c5fa",
            "d1549ec31a6b4185a6c7381627d68d97",
            "5df34b28bec34a2ebea86f8d4a2aa0f1",
            "6b49a373294c4f94b1d58bf8b64b01ab",
            "746d713429da4fe9b830fade9271a1c6",
            "0f4b9f0785644d5f9da3ce9e8eae1310",
            "d3df64262c304354b8151a53c7304379"
          ]
        },
        "id": "OznpRFvYoEuU",
        "outputId": "ae49a982-dba5-4d4f-9706-de4fe884f1b5"
      },
      "outputs": [
        {
          "name": "stderr",
          "output_type": "stream",
          "text": [
            "/var/folders/j4/9f_7brmn4jx1fmdbhdpydpp40000gn/T/ipykernel_26671/3244497184.py:11: FutureWarning: load_metric is deprecated and will be removed in the next major version of datasets. Use 'evaluate.load' instead, from the new library 🤗 Evaluate: https://huggingface.co/docs/evaluate\n",
            "  metric = load_metric(\"seqeval\")\n"
          ]
        },
        {
          "data": {
            "application/vnd.jupyter.widget-view+json": {
              "model_id": "f1af116dc82f40d4b9c83f867a6557cb",
              "version_major": 2,
              "version_minor": 0
            },
            "text/plain": [
              "Downloading builder script:   0%|          | 0.00/2.47k [00:00<?, ?B/s]"
            ]
          },
          "metadata": {},
          "output_type": "display_data"
        }
      ],
      "source": [
        "args = TrainingArguments(\n",
        "    f\"test-{task}\",\n",
        "    evaluation_strategy = \"epoch\",\n",
        "    learning_rate=1e-4,\n",
        "    per_device_train_batch_size=batch_size,\n",
        "    per_device_eval_batch_size=batch_size,\n",
        "    num_train_epochs=3,\n",
        "    weight_decay=1e-5,\n",
        ")\n",
        "\n",
        "metric = load_metric(\"seqeval\")"
      ]
    },
    {
      "attachments": {},
      "cell_type": "markdown",
      "metadata": {
        "id": "4ycIVaCFtdjH"
      },
      "source": [
        "**TRAINING MODULE**\n",
        "---\n",
        "Train the model with different parameters and finalize the optimal one"
      ]
    },
    {
      "cell_type": "code",
      "execution_count": 76,
      "metadata": {
        "colab": {
          "base_uri": "https://localhost:8080/",
          "height": 1000
        },
        "id": "60_QMq1qtXVP",
        "outputId": "b92f3375-babb-44aa-b69d-b96b412ea50b"
      },
      "outputs": [
        {
          "name": "stderr",
          "output_type": "stream",
          "text": [
            "The following columns in the training set don't have a corresponding argument in `DistilBertForTokenClassification.forward` and have been ignored: tokens, ner_tags, token_len. If tokens, ner_tags, token_len are not expected by `DistilBertForTokenClassification.forward`,  you can safely ignore this message.\n",
            "/Users/darkmaster/anaconda3/lib/python3.10/site-packages/transformers/optimization.py:306: FutureWarning: This implementation of AdamW is deprecated and will be removed in a future version. Use the PyTorch implementation torch.optim.AdamW instead, or set `no_deprecation_warning=True` to disable this warning\n",
            "  warnings.warn(\n",
            "***** Running training *****\n",
            "  Num examples = 518\n",
            "  Num Epochs = 3\n",
            "  Instantaneous batch size per device = 16\n",
            "  Total train batch size (w. parallel, distributed & accumulation) = 16\n",
            "  Gradient Accumulation steps = 1\n",
            "  Total optimization steps = 99\n",
            "  Number of trainable parameters = 66367494\n"
          ]
        },
        {
          "data": {
            "application/vnd.jupyter.widget-view+json": {
              "model_id": "4380ddb1f9264f89946191f3014f839b",
              "version_major": 2,
              "version_minor": 0
            },
            "text/plain": [
              "  0%|          | 0/99 [00:00<?, ?it/s]"
            ]
          },
          "metadata": {},
          "output_type": "display_data"
        },
        {
          "name": "stderr",
          "output_type": "stream",
          "text": [
            "You're using a DistilBertTokenizerFast tokenizer. Please note that with a fast tokenizer, using the `__call__` method is faster than using a method to encode the text followed by a call to the `pad` method to get a padded encoding.\n",
            "The following columns in the evaluation set don't have a corresponding argument in `DistilBertForTokenClassification.forward` and have been ignored: tokens, ner_tags, token_len. If tokens, ner_tags, token_len are not expected by `DistilBertForTokenClassification.forward`,  you can safely ignore this message.\n",
            "***** Running Evaluation *****\n",
            "  Num examples = 130\n",
            "  Batch size = 16\n"
          ]
        },
        {
          "data": {
            "application/vnd.jupyter.widget-view+json": {
              "model_id": "d66be4d115fe44f2a5ebd7b93ee376f3",
              "version_major": 2,
              "version_minor": 0
            },
            "text/plain": [
              "  0%|          | 0/9 [00:00<?, ?it/s]"
            ]
          },
          "metadata": {},
          "output_type": "display_data"
        },
        {
          "name": "stderr",
          "output_type": "stream",
          "text": [
            "/Users/darkmaster/anaconda3/lib/python3.10/site-packages/seqeval/metrics/v1.py:57: UndefinedMetricWarning: Precision and F-score are ill-defined and being set to 0.0 in labels with no predicted samples. Use `zero_division` parameter to control this behavior.\n",
            "  _warn_prf(average, modifier, msg_start, len(result))\n"
          ]
        },
        {
          "name": "stdout",
          "output_type": "stream",
          "text": [
            "{'eval_loss': 0.5536863207817078, 'eval_precision': 0.002785515320334262, 'eval_recall': 0.008438818565400843, 'eval_f1': 0.00418848167539267, 'eval_accuracy': 0.805645657975775, 'eval_runtime': 136.6961, 'eval_samples_per_second': 0.951, 'eval_steps_per_second': 0.066, 'epoch': 1.0}\n"
          ]
        },
        {
          "name": "stderr",
          "output_type": "stream",
          "text": [
            "The following columns in the evaluation set don't have a corresponding argument in `DistilBertForTokenClassification.forward` and have been ignored: tokens, ner_tags, token_len. If tokens, ner_tags, token_len are not expected by `DistilBertForTokenClassification.forward`,  you can safely ignore this message.\n",
            "***** Running Evaluation *****\n",
            "  Num examples = 130\n",
            "  Batch size = 16\n"
          ]
        },
        {
          "data": {
            "application/vnd.jupyter.widget-view+json": {
              "model_id": "4965dcd99de644a2a44b6b19165a3444",
              "version_major": 2,
              "version_minor": 0
            },
            "text/plain": [
              "  0%|          | 0/9 [00:00<?, ?it/s]"
            ]
          },
          "metadata": {},
          "output_type": "display_data"
        },
        {
          "name": "stdout",
          "output_type": "stream",
          "text": [
            "{'eval_loss': 0.47596320509910583, 'eval_precision': 0.026785714285714284, 'eval_recall': 0.0759493670886076, 'eval_f1': 0.039603960396039604, 'eval_accuracy': 0.8311845616916445, 'eval_runtime': 142.843, 'eval_samples_per_second': 0.91, 'eval_steps_per_second': 0.063, 'epoch': 2.0}\n"
          ]
        },
        {
          "name": "stderr",
          "output_type": "stream",
          "text": [
            "The following columns in the evaluation set don't have a corresponding argument in `DistilBertForTokenClassification.forward` and have been ignored: tokens, ner_tags, token_len. If tokens, ner_tags, token_len are not expected by `DistilBertForTokenClassification.forward`,  you can safely ignore this message.\n",
            "***** Running Evaluation *****\n",
            "  Num examples = 130\n",
            "  Batch size = 16\n"
          ]
        },
        {
          "data": {
            "application/vnd.jupyter.widget-view+json": {
              "model_id": "5a70913413574aa893ee869ee7a0e9c0",
              "version_major": 2,
              "version_minor": 0
            },
            "text/plain": [
              "  0%|          | 0/9 [00:00<?, ?it/s]"
            ]
          },
          "metadata": {},
          "output_type": "display_data"
        },
        {
          "name": "stderr",
          "output_type": "stream",
          "text": [
            "\n",
            "\n",
            "Training completed. Do not forget to share your model on huggingface.co/models =)\n",
            "\n",
            "\n"
          ]
        },
        {
          "name": "stdout",
          "output_type": "stream",
          "text": [
            "{'eval_loss': 0.46126243472099304, 'eval_precision': 0.06497175141242938, 'eval_recall': 0.1940928270042194, 'eval_f1': 0.09735449735449735, 'eval_accuracy': 0.8391090125230959, 'eval_runtime': 148.1912, 'eval_samples_per_second': 0.877, 'eval_steps_per_second': 0.061, 'epoch': 3.0}\n",
            "{'train_runtime': 6289.0713, 'train_samples_per_second': 0.247, 'train_steps_per_second': 0.016, 'train_loss': 0.45245681146178585, 'epoch': 3.0}\n"
          ]
        },
        {
          "data": {
            "text/plain": [
              "TrainOutput(global_step=99, training_loss=0.45245681146178585, metrics={'train_runtime': 6289.0713, 'train_samples_per_second': 0.247, 'train_steps_per_second': 0.016, 'train_loss': 0.45245681146178585, 'epoch': 3.0})"
            ]
          },
          "execution_count": 76,
          "metadata": {},
          "output_type": "execute_result"
        }
      ],
      "source": [
        "trainer = Trainer(\n",
        "    model,\n",
        "    args,\n",
        "    train_dataset=train_tokenized_datasets,\n",
        "    eval_dataset=test_tokenized_datasets,\n",
        "    data_collator=data_collator,\n",
        "    tokenizer=tokenizer,\n",
        "    compute_metrics=compute_metrics\n",
        ")\n",
        "\n",
        "trainer.train()"
      ]
    },
    {
      "attachments": {},
      "cell_type": "markdown",
      "metadata": {
        "id": "OdNd9W0KtirK"
      },
      "source": [
        "# **EVALUATION**\n",
        "\n",
        "---\n",
        "\n",
        "Evaluate the remaining 20 percent of training data. \n",
        "It is a good idea to take a part of training data for validation while training the model."
      ]
    },
    {
      "cell_type": "code",
      "execution_count": 77,
      "metadata": {
        "colab": {
          "base_uri": "https://localhost:8080/",
          "height": 293
        },
        "id": "b3zyEPi3tj33",
        "outputId": "a608e544-a902-4379-d693-b8e4d95f0270"
      },
      "outputs": [
        {
          "name": "stderr",
          "output_type": "stream",
          "text": [
            "The following columns in the evaluation set don't have a corresponding argument in `DistilBertForTokenClassification.forward` and have been ignored: tokens, ner_tags, token_len. If tokens, ner_tags, token_len are not expected by `DistilBertForTokenClassification.forward`,  you can safely ignore this message.\n",
            "***** Running Evaluation *****\n",
            "  Num examples = 130\n",
            "  Batch size = 16\n"
          ]
        },
        {
          "data": {
            "application/vnd.jupyter.widget-view+json": {
              "model_id": "255b3ded97cd41afa501d17859c8f5bc",
              "version_major": 2,
              "version_minor": 0
            },
            "text/plain": [
              "  0%|          | 0/9 [00:00<?, ?it/s]"
            ]
          },
          "metadata": {},
          "output_type": "display_data"
        },
        {
          "data": {
            "text/plain": [
              "{'eval_loss': 0.46126243472099304,\n",
              " 'eval_precision': 0.06497175141242938,\n",
              " 'eval_recall': 0.1940928270042194,\n",
              " 'eval_f1': 0.09735449735449735,\n",
              " 'eval_accuracy': 0.8391090125230959,\n",
              " 'eval_runtime': 152.5579,\n",
              " 'eval_samples_per_second': 0.852,\n",
              " 'eval_steps_per_second': 0.059,\n",
              " 'epoch': 3.0}"
            ]
          },
          "execution_count": 77,
          "metadata": {},
          "output_type": "execute_result"
        }
      ],
      "source": [
        "trainer.evaluate()"
      ]
    },
    {
      "attachments": {},
      "cell_type": "markdown",
      "metadata": {
        "id": "pXHWYmzcvjk5"
      },
      "source": [
        "*Save the Model*\n",
        "---\n",
        "Save the model to disk"
      ]
    },
    {
      "cell_type": "code",
      "execution_count": 78,
      "metadata": {
        "colab": {
          "base_uri": "https://localhost:8080/"
        },
        "id": "O6f3sbqRvlQS",
        "outputId": "8a31f944-fb16-40d7-a194-c66aac73692e"
      },
      "outputs": [
        {
          "name": "stderr",
          "output_type": "stream",
          "text": [
            "Saving model checkpoint to un-ner.model\n",
            "Configuration saved in un-ner.model/config.json\n",
            "Model weights saved in un-ner.model/pytorch_model.bin\n",
            "tokenizer config file saved in un-ner.model/tokenizer_config.json\n",
            "Special tokens file saved in un-ner.model/special_tokens_map.json\n"
          ]
        }
      ],
      "source": [
        "# Save the model to disk\n",
        "trainer.save_model('un-ner.model')"
      ]
    },
    {
      "attachments": {},
      "cell_type": "markdown",
      "metadata": {
        "id": "Yci-TOykwNil"
      },
      "source": [
        "**PREDICTION MODULE**\n",
        "---\n",
        "Predict the **Unseen Data**\n"
      ]
    },
    {
      "cell_type": "code",
      "execution_count": 79,
      "metadata": {
        "colab": {
          "base_uri": "https://localhost:8080/"
        },
        "id": "M06YEf7NwRNq",
        "outputId": "340f3d15-ab24-4dc9-de3e-607fc4719b08"
      },
      "outputs": [
        {
          "name": "stderr",
          "output_type": "stream",
          "text": [
            "loading file vocab.txt\n",
            "loading file tokenizer.json\n",
            "loading file added_tokens.json\n",
            "loading file special_tokens_map.json\n",
            "loading file tokenizer_config.json\n",
            "loading configuration file ./un-ner.model/config.json\n",
            "Model config DistilBertConfig {\n",
            "  \"_name_or_path\": \"./un-ner.model/\",\n",
            "  \"activation\": \"gelu\",\n",
            "  \"architectures\": [\n",
            "    \"DistilBertForTokenClassification\"\n",
            "  ],\n",
            "  \"attention_dropout\": 0.1,\n",
            "  \"dim\": 768,\n",
            "  \"dropout\": 0.1,\n",
            "  \"hidden_dim\": 3072,\n",
            "  \"id2label\": {\n",
            "    \"0\": \"LABEL_0\",\n",
            "    \"1\": \"LABEL_1\",\n",
            "    \"2\": \"LABEL_2\",\n",
            "    \"3\": \"LABEL_3\",\n",
            "    \"4\": \"LABEL_4\",\n",
            "    \"5\": \"LABEL_5\"\n",
            "  },\n",
            "  \"initializer_range\": 0.02,\n",
            "  \"label2id\": {\n",
            "    \"LABEL_0\": 0,\n",
            "    \"LABEL_1\": 1,\n",
            "    \"LABEL_2\": 2,\n",
            "    \"LABEL_3\": 3,\n",
            "    \"LABEL_4\": 4,\n",
            "    \"LABEL_5\": 5\n",
            "  },\n",
            "  \"max_position_embeddings\": 512,\n",
            "  \"model_type\": \"distilbert\",\n",
            "  \"n_heads\": 12,\n",
            "  \"n_layers\": 6,\n",
            "  \"pad_token_id\": 0,\n",
            "  \"qa_dropout\": 0.1,\n",
            "  \"seq_classif_dropout\": 0.2,\n",
            "  \"sinusoidal_pos_embds\": false,\n",
            "  \"tie_weights_\": true,\n",
            "  \"torch_dtype\": \"float32\",\n",
            "  \"transformers_version\": \"4.24.0\",\n",
            "  \"vocab_size\": 30522\n",
            "}\n",
            "\n",
            "loading weights file ./un-ner.model/pytorch_model.bin\n",
            "All model checkpoint weights were used when initializing DistilBertForTokenClassification.\n",
            "\n",
            "All the weights of DistilBertForTokenClassification were initialized from the model checkpoint at ./un-ner.model/.\n",
            "If your task is similar to the task the model of the checkpoint was trained on, you can already use DistilBertForTokenClassification for predictions without further training.\n"
          ]
        }
      ],
      "source": [
        "# Load the tokenizer and trained model from disk\n",
        "tokenizer = AutoTokenizer.from_pretrained('./un-ner.model/')\n",
        "model = AutoModelForTokenClassification.from_pretrained('./un-ner.model/', num_labels=len(label_list))"
      ]
    },
    {
      "cell_type": "code",
      "execution_count": 80,
      "metadata": {
        "id": "ZfdDnbALye2h"
      },
      "outputs": [],
      "source": [
        "# Input unseen data\n",
        "paragraph = '''\n",
        "OBJECTIVE|A|To test the efficacy of a pregnancy adapted version of an existing 10-week ICBT-program for depression as well as assessing acceptability and adherence DESIGN: Randomised controlled trial.\n",
        "SETTING|M|Online and telephone.\n",
        "POPULATION OR SAMPLE|P|Self-referred pregnant women (gestational week 10-28 at intake) currently suffering from major depressive disorder.\n",
        "METHODS|M|42 pregnant women (gestational week 12-28) with major depression were randomised to either treatment as usual (TAU) provided at their antenatal clinic or to ICBT as an add-on to usual care.\n",
        "MAIN OUTCOME MEASURES|O|The primary outcome was depressive symptoms measured with the Montgomery-sberg depression rating scale-self report (MADRS-S). The Edinburgh Postnatal Depression Scale and measures of anxiety and sleep were used. Credibility, satisfaction, adherence and utilization were also assessed.\n",
        "RESULTS|R|The ICBT group had significantly lower levels of depressive symptoms post treatment (p < 0.001, Hedges g =1.21) and were more likely to be responders (i.e. achieve a statistically reliable improvement) (RR = 0.36; p = 0.004). Measures of treatment credibility, satisfaction, utilization, and adherence were comparable to implemented ICBT for depression.\n",
        "LIMITATIONS|Others|Small sample size and no long-term evaluation.\n",
        "CONCLUSION|C|Pregnancy adapted ICBT for antenatal depression is feasible, acceptable and efficacious. These results need to be replicated in larger trials to validate these promising findings.\n",
        "'''"
      ]
    },
    {
      "cell_type": "code",
      "execution_count": 81,
      "metadata": {
        "colab": {
          "base_uri": "https://localhost:8080/"
        },
        "id": "t1MEuhtTypS0",
        "outputId": "a761e371-e0b1-4f34-db8f-460a3f2c7644"
      },
      "outputs": [
        {
          "data": {
            "text/plain": [
              "torch.Size([1, 332])"
            ]
          },
          "execution_count": 81,
          "metadata": {},
          "output_type": "execute_result"
        }
      ],
      "source": [
        "# Tokenize the paragraph\n",
        "tokens = tokenizer(paragraph)\n",
        "torch.tensor(tokens['input_ids']).unsqueeze(0).size()"
      ]
    },
    {
      "cell_type": "code",
      "execution_count": 82,
      "metadata": {
        "id": "thP477PGyuf9"
      },
      "outputs": [],
      "source": [
        "# Predictions\n",
        "predictions = model.forward(input_ids=torch.tensor(tokens['input_ids']).unsqueeze(0), attention_mask=torch.tensor(tokens['attention_mask']).unsqueeze(0))\n",
        "predictions = torch.argmax(predictions.logits.squeeze(), axis=1)\n",
        "predictions = [label_list[i] for i in predictions]"
      ]
    },
    {
      "cell_type": "code",
      "execution_count": 83,
      "metadata": {
        "colab": {
          "base_uri": "https://localhost:8080/"
        },
        "id": "VzHyey_aNg--",
        "outputId": "be5adbfe-38ea-408d-fd82-ee1921ef7fbf"
      },
      "outputs": [
        {
          "name": "stdout",
          "output_type": "stream",
          "text": [
            "['O', 'O', 'O', 'O', 'O', 'O', 'O', 'O', 'O', 'O', 'O', 'O', 'O', 'O', 'O', 'O', 'O', 'O', 'O', 'O', 'O', 'O', 'O', 'O', 'O', 'O', 'O', 'O', 'O', 'O', 'O', 'O', 'O', 'O', 'O', 'O', 'O', 'O', 'O', 'O', 'O', 'O', 'O', 'O', 'O', 'O', 'O', 'O', 'O', 'I-PARTICIPANT', 'I-PARTICIPANT', 'I-PARTICIPANT', 'I-PARTICIPANT', 'I-PARTICIPANT', 'I-PARTICIPANT', 'I-PARTICIPANT', 'I-PARTICIPANT', 'I-PARTICIPANT', 'I-PARTICIPANT', 'I-PARTICIPANT', 'I-PARTICIPANT', 'I-PARTICIPANT', 'I-PARTICIPANT', 'I-PARTICIPANT', 'I-PARTICIPANT', 'I-PARTICIPANT', 'I-PARTICIPANT', 'I-PARTICIPANT', 'I-PARTICIPANT', 'I-PARTICIPANT', 'I-PARTICIPANT', 'I-PARTICIPANT', 'I-PARTICIPANT', 'I-PARTICIPANT', 'I-PARTICIPANT', 'I-PARTICIPANT', 'I-PARTICIPANT', 'I-PARTICIPANT', 'I-PARTICIPANT', 'I-PARTICIPANT', 'I-PARTICIPANT', 'I-PARTICIPANT', 'I-PARTICIPANT', 'I-PARTICIPANT', 'I-PARTICIPANT', 'I-PARTICIPANT', 'I-PARTICIPANT', 'I-PARTICIPANT', 'I-PARTICIPANT', 'I-PARTICIPANT', 'I-PARTICIPANT', 'I-PARTICIPANT', 'I-PARTICIPANT', 'I-PARTICIPANT', 'I-PARTICIPANT', 'I-PARTICIPANT', 'I-PARTICIPANT', 'I-PARTICIPANT', 'I-PARTICIPANT', 'I-PARTICIPANT', 'I-PARTICIPANT', 'I-PARTICIPANT', 'I-PARTICIPANT', 'I-PARTICIPANT', 'I-PARTICIPANT', 'I-PARTICIPANT', 'I-PARTICIPANT', 'I-PARTICIPANT', 'I-PARTICIPANT', 'I-PARTICIPANT', 'O', 'I-PARTICIPANT', 'O', 'O', 'O', 'O', 'O', 'I-PARTICIPANT', 'O', 'O', 'I-PARTICIPANT', 'O', 'O', 'O', 'I-PARTICIPANT', 'I-PARTICIPANT', 'I-PARTICIPANT', 'O', 'O', 'I-OUTCOME', 'I-OUTCOME', 'I-OUTCOME', 'I-OUTCOME', 'I-OUTCOME', 'I-OUTCOME', 'I-OUTCOME', 'I-OUTCOME', 'I-OUTCOME', 'I-OUTCOME', 'I-OUTCOME', 'I-OUTCOME', 'I-OUTCOME', 'I-OUTCOME', 'I-OUTCOME', 'I-OUTCOME', 'I-OUTCOME', 'I-OUTCOME', 'I-OUTCOME', 'I-OUTCOME', 'I-OUTCOME', 'I-OUTCOME', 'I-OUTCOME', 'I-OUTCOME', 'I-OUTCOME', 'I-OUTCOME', 'I-OUTCOME', 'I-OUTCOME', 'I-OUTCOME', 'I-OUTCOME', 'I-OUTCOME', 'I-OUTCOME', 'I-OUTCOME', 'I-OUTCOME', 'I-OUTCOME', 'I-OUTCOME', 'I-OUTCOME', 'I-OUTCOME', 'I-OUTCOME', 'I-OUTCOME', 'I-OUTCOME', 'I-OUTCOME', 'I-OUTCOME', 'I-OUTCOME', 'I-OUTCOME', 'I-OUTCOME', 'I-OUTCOME', 'I-OUTCOME', 'I-OUTCOME', 'I-OUTCOME', 'O', 'O', 'O', 'O', 'O', 'O', 'O', 'O', 'O', 'I-OUTCOME', 'O', 'O', 'O', 'O', 'O', 'O', 'O', 'O', 'O', 'O', 'O', 'O', 'O', 'O', 'O', 'O', 'O', 'O', 'O', 'O', 'O', 'O', 'O', 'O', 'O', 'O', 'O', 'O', 'O', 'O', 'O', 'O', 'O', 'O', 'O', 'O', 'O', 'O', 'O', 'O', 'O', 'O', 'O', 'O', 'O', 'O', 'O', 'O', 'O', 'O', 'O', 'O', 'O', 'O', 'O', 'O', 'O', 'O', 'O', 'O', 'O', 'O', 'O', 'O', 'O', 'O', 'O', 'O', 'O', 'O', 'O', 'O', 'O', 'O', 'O', 'O', 'O', 'O', 'O', 'O', 'O', 'O', 'O', 'O', 'O', 'O', 'O', 'O', 'O', 'O', 'O', 'O', 'O', 'O', 'O', 'O', 'O', 'O', 'O', 'O', 'O', 'O', 'O', 'O', 'O', 'O', 'O', 'O', 'O', 'O', 'O', 'O', 'O', 'O', 'O', 'O', 'O', 'O', 'O', 'O', 'O', 'O', 'O', 'O', 'O', 'O', 'O', 'O', 'O', 'O', 'O', 'O', 'O', 'O', 'O', 'O', 'O', 'O', 'O', 'O', 'O', 'O', 'O']\n"
          ]
        }
      ],
      "source": [
        "print(predictions)"
      ]
    },
    {
      "cell_type": "code",
      "execution_count": 84,
      "metadata": {
        "id": "nGw81lwEU6oS"
      },
      "outputs": [],
      "source": [
        "words = tokenizer.batch_decode(tokens['input_ids'])"
      ]
    },
    {
      "cell_type": "code",
      "execution_count": 85,
      "metadata": {
        "id": "QJDlMa7_0SJi"
      },
      "outputs": [],
      "source": [
        "# Store the token and predicted entities in a dataframe\n",
        "prediction_results = pd.DataFrame({'ner': predictions, 'words': words})"
      ]
    },
    {
      "cell_type": "code",
      "execution_count": 86,
      "metadata": {
        "colab": {
          "base_uri": "https://localhost:8080/"
        },
        "id": "tUv-utBQV051",
        "outputId": "7f795a58-66e5-4e85-a7c8-d9a19a46c8b6"
      },
      "outputs": [
        {
          "name": "stdout",
          "output_type": "stream",
          "text": [
            "    ner      words\n",
            "0     O      [CLS]\n",
            "1     O  objective\n",
            "2     O          |\n",
            "3     O          a\n",
            "4     O          |\n",
            "..   ..        ...\n",
            "327   O      these\n",
            "328   O  promising\n",
            "329   O   findings\n",
            "330   O          .\n",
            "331   O      [SEP]\n",
            "\n",
            "[332 rows x 2 columns]\n"
          ]
        }
      ],
      "source": [
        "# Print predicted samples\n",
        "print(prediction_results)"
      ]
    },
    {
      "attachments": {},
      "cell_type": "markdown",
      "metadata": {
        "id": "c6mUhNSnViTg"
      },
      "source": [
        "*Export the results*\n",
        "---\n",
        "Export test results to **csv**\n",
        "\n",
        "Select the **Words, Labels** and **Confidence scores** to export csv file"
      ]
    },
    {
      "cell_type": "code",
      "execution_count": 87,
      "metadata": {
        "id": "i1K9HpxPVF-0"
      },
      "outputs": [],
      "source": [
        "# Export results to csv\n",
        "prediction_results.to_csv(\"prediction_results.csv\")"
      ]
    }
  ],
  "metadata": {
    "accelerator": "GPU",
    "colab": {
      "provenance": []
    },
    "gpuClass": "standard",
    "kernelspec": {
      "display_name": "Python 3",
      "name": "python3"
    },
    "language_info": {
      "codemirror_mode": {
        "name": "ipython",
        "version": 3
      },
      "file_extension": ".py",
      "mimetype": "text/x-python",
      "name": "python",
      "nbconvert_exporter": "python",
      "pygments_lexer": "ipython3",
      "version": "3.10.9"
    },
    "widgets": {
      "application/vnd.jupyter.widget-state+json": {
        "011c2cea381d469d8c3f80559fa110f5": {
          "model_module": "@jupyter-widgets/controls",
          "model_module_version": "1.5.0",
          "model_name": "HTMLModel",
          "state": {
            "_dom_classes": [],
            "_model_module": "@jupyter-widgets/controls",
            "_model_module_version": "1.5.0",
            "_model_name": "HTMLModel",
            "_view_count": null,
            "_view_module": "@jupyter-widgets/controls",
            "_view_module_version": "1.5.0",
            "_view_name": "HTMLView",
            "description": "",
            "description_tooltip": null,
            "layout": "IPY_MODEL_b3d77b188d1842ac8894d1c543191be9",
            "placeholder": "​",
            "style": "IPY_MODEL_11ecc7214c3b4302a019e0e91f8d9e79",
            "value": "100%"
          }
        },
        "014e392d5f044855aecd78b12284bcf2": {
          "model_module": "@jupyter-widgets/base",
          "model_module_version": "1.2.0",
          "model_name": "LayoutModel",
          "state": {
            "_model_module": "@jupyter-widgets/base",
            "_model_module_version": "1.2.0",
            "_model_name": "LayoutModel",
            "_view_count": null,
            "_view_module": "@jupyter-widgets/base",
            "_view_module_version": "1.2.0",
            "_view_name": "LayoutView",
            "align_content": null,
            "align_items": null,
            "align_self": null,
            "border": null,
            "bottom": null,
            "display": null,
            "flex": null,
            "flex_flow": null,
            "grid_area": null,
            "grid_auto_columns": null,
            "grid_auto_flow": null,
            "grid_auto_rows": null,
            "grid_column": null,
            "grid_gap": null,
            "grid_row": null,
            "grid_template_areas": null,
            "grid_template_columns": null,
            "grid_template_rows": null,
            "height": null,
            "justify_content": null,
            "justify_items": null,
            "left": null,
            "margin": null,
            "max_height": null,
            "max_width": null,
            "min_height": null,
            "min_width": null,
            "object_fit": null,
            "object_position": null,
            "order": null,
            "overflow": null,
            "overflow_x": null,
            "overflow_y": null,
            "padding": null,
            "right": null,
            "top": null,
            "visibility": null,
            "width": null
          }
        },
        "0228b1c233964d008debe668738b62e4": {
          "model_module": "@jupyter-widgets/base",
          "model_module_version": "1.2.0",
          "model_name": "LayoutModel",
          "state": {
            "_model_module": "@jupyter-widgets/base",
            "_model_module_version": "1.2.0",
            "_model_name": "LayoutModel",
            "_view_count": null,
            "_view_module": "@jupyter-widgets/base",
            "_view_module_version": "1.2.0",
            "_view_name": "LayoutView",
            "align_content": null,
            "align_items": null,
            "align_self": null,
            "border": null,
            "bottom": null,
            "display": null,
            "flex": null,
            "flex_flow": null,
            "grid_area": null,
            "grid_auto_columns": null,
            "grid_auto_flow": null,
            "grid_auto_rows": null,
            "grid_column": null,
            "grid_gap": null,
            "grid_row": null,
            "grid_template_areas": null,
            "grid_template_columns": null,
            "grid_template_rows": null,
            "height": null,
            "justify_content": null,
            "justify_items": null,
            "left": null,
            "margin": null,
            "max_height": null,
            "max_width": null,
            "min_height": null,
            "min_width": null,
            "object_fit": null,
            "object_position": null,
            "order": null,
            "overflow": null,
            "overflow_x": null,
            "overflow_y": null,
            "padding": null,
            "right": null,
            "top": null,
            "visibility": null,
            "width": null
          }
        },
        "05744626cfae443a98a5330c415a4208": {
          "model_module": "@jupyter-widgets/base",
          "model_module_version": "1.2.0",
          "model_name": "LayoutModel",
          "state": {
            "_model_module": "@jupyter-widgets/base",
            "_model_module_version": "1.2.0",
            "_model_name": "LayoutModel",
            "_view_count": null,
            "_view_module": "@jupyter-widgets/base",
            "_view_module_version": "1.2.0",
            "_view_name": "LayoutView",
            "align_content": null,
            "align_items": null,
            "align_self": null,
            "border": null,
            "bottom": null,
            "display": null,
            "flex": null,
            "flex_flow": null,
            "grid_area": null,
            "grid_auto_columns": null,
            "grid_auto_flow": null,
            "grid_auto_rows": null,
            "grid_column": null,
            "grid_gap": null,
            "grid_row": null,
            "grid_template_areas": null,
            "grid_template_columns": null,
            "grid_template_rows": null,
            "height": null,
            "justify_content": null,
            "justify_items": null,
            "left": null,
            "margin": null,
            "max_height": null,
            "max_width": null,
            "min_height": null,
            "min_width": null,
            "object_fit": null,
            "object_position": null,
            "order": null,
            "overflow": null,
            "overflow_x": null,
            "overflow_y": null,
            "padding": null,
            "right": null,
            "top": null,
            "visibility": null,
            "width": null
          }
        },
        "08567555ce0840fab6cbdad1c6aebdf7": {
          "model_module": "@jupyter-widgets/controls",
          "model_module_version": "1.5.0",
          "model_name": "HBoxModel",
          "state": {
            "_dom_classes": [],
            "_model_module": "@jupyter-widgets/controls",
            "_model_module_version": "1.5.0",
            "_model_name": "HBoxModel",
            "_view_count": null,
            "_view_module": "@jupyter-widgets/controls",
            "_view_module_version": "1.5.0",
            "_view_name": "HBoxView",
            "box_style": "",
            "children": [
              "IPY_MODEL_011c2cea381d469d8c3f80559fa110f5",
              "IPY_MODEL_36e256c23071414089e150e7e198e99d",
              "IPY_MODEL_15d4cf3412d04a90862185bfbac84f30"
            ],
            "layout": "IPY_MODEL_e979cd90cf884fcfa983b68e2aab5806"
          }
        },
        "09861bf90fae41b1af04651164531ce8": {
          "model_module": "@jupyter-widgets/base",
          "model_module_version": "1.2.0",
          "model_name": "LayoutModel",
          "state": {
            "_model_module": "@jupyter-widgets/base",
            "_model_module_version": "1.2.0",
            "_model_name": "LayoutModel",
            "_view_count": null,
            "_view_module": "@jupyter-widgets/base",
            "_view_module_version": "1.2.0",
            "_view_name": "LayoutView",
            "align_content": null,
            "align_items": null,
            "align_self": null,
            "border": null,
            "bottom": null,
            "display": null,
            "flex": null,
            "flex_flow": null,
            "grid_area": null,
            "grid_auto_columns": null,
            "grid_auto_flow": null,
            "grid_auto_rows": null,
            "grid_column": null,
            "grid_gap": null,
            "grid_row": null,
            "grid_template_areas": null,
            "grid_template_columns": null,
            "grid_template_rows": null,
            "height": null,
            "justify_content": null,
            "justify_items": null,
            "left": null,
            "margin": null,
            "max_height": null,
            "max_width": null,
            "min_height": null,
            "min_width": null,
            "object_fit": null,
            "object_position": null,
            "order": null,
            "overflow": null,
            "overflow_x": null,
            "overflow_y": null,
            "padding": null,
            "right": null,
            "top": null,
            "visibility": null,
            "width": null
          }
        },
        "0c25df983fe249ae8b72de91d7f551be": {
          "model_module": "@jupyter-widgets/base",
          "model_module_version": "1.2.0",
          "model_name": "LayoutModel",
          "state": {
            "_model_module": "@jupyter-widgets/base",
            "_model_module_version": "1.2.0",
            "_model_name": "LayoutModel",
            "_view_count": null,
            "_view_module": "@jupyter-widgets/base",
            "_view_module_version": "1.2.0",
            "_view_name": "LayoutView",
            "align_content": null,
            "align_items": null,
            "align_self": null,
            "border": null,
            "bottom": null,
            "display": null,
            "flex": null,
            "flex_flow": null,
            "grid_area": null,
            "grid_auto_columns": null,
            "grid_auto_flow": null,
            "grid_auto_rows": null,
            "grid_column": null,
            "grid_gap": null,
            "grid_row": null,
            "grid_template_areas": null,
            "grid_template_columns": null,
            "grid_template_rows": null,
            "height": null,
            "justify_content": null,
            "justify_items": null,
            "left": null,
            "margin": null,
            "max_height": null,
            "max_width": null,
            "min_height": null,
            "min_width": null,
            "object_fit": null,
            "object_position": null,
            "order": null,
            "overflow": null,
            "overflow_x": null,
            "overflow_y": null,
            "padding": null,
            "right": null,
            "top": null,
            "visibility": null,
            "width": null
          }
        },
        "0db743996a8e4035a8438a935c0d8409": {
          "model_module": "@jupyter-widgets/base",
          "model_module_version": "1.2.0",
          "model_name": "LayoutModel",
          "state": {
            "_model_module": "@jupyter-widgets/base",
            "_model_module_version": "1.2.0",
            "_model_name": "LayoutModel",
            "_view_count": null,
            "_view_module": "@jupyter-widgets/base",
            "_view_module_version": "1.2.0",
            "_view_name": "LayoutView",
            "align_content": null,
            "align_items": null,
            "align_self": null,
            "border": null,
            "bottom": null,
            "display": null,
            "flex": null,
            "flex_flow": null,
            "grid_area": null,
            "grid_auto_columns": null,
            "grid_auto_flow": null,
            "grid_auto_rows": null,
            "grid_column": null,
            "grid_gap": null,
            "grid_row": null,
            "grid_template_areas": null,
            "grid_template_columns": null,
            "grid_template_rows": null,
            "height": null,
            "justify_content": null,
            "justify_items": null,
            "left": null,
            "margin": null,
            "max_height": null,
            "max_width": null,
            "min_height": null,
            "min_width": null,
            "object_fit": null,
            "object_position": null,
            "order": null,
            "overflow": null,
            "overflow_x": null,
            "overflow_y": null,
            "padding": null,
            "right": null,
            "top": null,
            "visibility": null,
            "width": null
          }
        },
        "0f4b9f0785644d5f9da3ce9e8eae1310": {
          "model_module": "@jupyter-widgets/base",
          "model_module_version": "1.2.0",
          "model_name": "LayoutModel",
          "state": {
            "_model_module": "@jupyter-widgets/base",
            "_model_module_version": "1.2.0",
            "_model_name": "LayoutModel",
            "_view_count": null,
            "_view_module": "@jupyter-widgets/base",
            "_view_module_version": "1.2.0",
            "_view_name": "LayoutView",
            "align_content": null,
            "align_items": null,
            "align_self": null,
            "border": null,
            "bottom": null,
            "display": null,
            "flex": null,
            "flex_flow": null,
            "grid_area": null,
            "grid_auto_columns": null,
            "grid_auto_flow": null,
            "grid_auto_rows": null,
            "grid_column": null,
            "grid_gap": null,
            "grid_row": null,
            "grid_template_areas": null,
            "grid_template_columns": null,
            "grid_template_rows": null,
            "height": null,
            "justify_content": null,
            "justify_items": null,
            "left": null,
            "margin": null,
            "max_height": null,
            "max_width": null,
            "min_height": null,
            "min_width": null,
            "object_fit": null,
            "object_position": null,
            "order": null,
            "overflow": null,
            "overflow_x": null,
            "overflow_y": null,
            "padding": null,
            "right": null,
            "top": null,
            "visibility": null,
            "width": null
          }
        },
        "0fb3de6688e948eab786fb0665881b9d": {
          "model_module": "@jupyter-widgets/base",
          "model_module_version": "1.2.0",
          "model_name": "LayoutModel",
          "state": {
            "_model_module": "@jupyter-widgets/base",
            "_model_module_version": "1.2.0",
            "_model_name": "LayoutModel",
            "_view_count": null,
            "_view_module": "@jupyter-widgets/base",
            "_view_module_version": "1.2.0",
            "_view_name": "LayoutView",
            "align_content": null,
            "align_items": null,
            "align_self": null,
            "border": null,
            "bottom": null,
            "display": null,
            "flex": null,
            "flex_flow": null,
            "grid_area": null,
            "grid_auto_columns": null,
            "grid_auto_flow": null,
            "grid_auto_rows": null,
            "grid_column": null,
            "grid_gap": null,
            "grid_row": null,
            "grid_template_areas": null,
            "grid_template_columns": null,
            "grid_template_rows": null,
            "height": null,
            "justify_content": null,
            "justify_items": null,
            "left": null,
            "margin": null,
            "max_height": null,
            "max_width": null,
            "min_height": null,
            "min_width": null,
            "object_fit": null,
            "object_position": null,
            "order": null,
            "overflow": null,
            "overflow_x": null,
            "overflow_y": null,
            "padding": null,
            "right": null,
            "top": null,
            "visibility": null,
            "width": null
          }
        },
        "11ecc7214c3b4302a019e0e91f8d9e79": {
          "model_module": "@jupyter-widgets/controls",
          "model_module_version": "1.5.0",
          "model_name": "DescriptionStyleModel",
          "state": {
            "_model_module": "@jupyter-widgets/controls",
            "_model_module_version": "1.5.0",
            "_model_name": "DescriptionStyleModel",
            "_view_count": null,
            "_view_module": "@jupyter-widgets/base",
            "_view_module_version": "1.2.0",
            "_view_name": "StyleView",
            "description_width": ""
          }
        },
        "15d4cf3412d04a90862185bfbac84f30": {
          "model_module": "@jupyter-widgets/controls",
          "model_module_version": "1.5.0",
          "model_name": "HTMLModel",
          "state": {
            "_dom_classes": [],
            "_model_module": "@jupyter-widgets/controls",
            "_model_module_version": "1.5.0",
            "_model_name": "HTMLModel",
            "_view_count": null,
            "_view_module": "@jupyter-widgets/controls",
            "_view_module_version": "1.5.0",
            "_view_name": "HTMLView",
            "description": "",
            "description_tooltip": null,
            "layout": "IPY_MODEL_57ebfb57b4f043d5904f09c2bba62c00",
            "placeholder": "​",
            "style": "IPY_MODEL_1cf645157b294dd89bcc518568671f0e",
            "value": " 5/5 [00:11&lt;00:00,  2.28s/ba]"
          }
        },
        "1807a0ddc9c14daeacdfeb32cbe1ca2a": {
          "model_module": "@jupyter-widgets/controls",
          "model_module_version": "1.5.0",
          "model_name": "ProgressStyleModel",
          "state": {
            "_model_module": "@jupyter-widgets/controls",
            "_model_module_version": "1.5.0",
            "_model_name": "ProgressStyleModel",
            "_view_count": null,
            "_view_module": "@jupyter-widgets/base",
            "_view_module_version": "1.2.0",
            "_view_name": "StyleView",
            "bar_color": null,
            "description_width": ""
          }
        },
        "1cacd63abb2642ed9fb6bce8e1968550": {
          "model_module": "@jupyter-widgets/controls",
          "model_module_version": "1.5.0",
          "model_name": "DescriptionStyleModel",
          "state": {
            "_model_module": "@jupyter-widgets/controls",
            "_model_module_version": "1.5.0",
            "_model_name": "DescriptionStyleModel",
            "_view_count": null,
            "_view_module": "@jupyter-widgets/base",
            "_view_module_version": "1.2.0",
            "_view_name": "StyleView",
            "description_width": ""
          }
        },
        "1cf645157b294dd89bcc518568671f0e": {
          "model_module": "@jupyter-widgets/controls",
          "model_module_version": "1.5.0",
          "model_name": "DescriptionStyleModel",
          "state": {
            "_model_module": "@jupyter-widgets/controls",
            "_model_module_version": "1.5.0",
            "_model_name": "DescriptionStyleModel",
            "_view_count": null,
            "_view_module": "@jupyter-widgets/base",
            "_view_module_version": "1.2.0",
            "_view_name": "StyleView",
            "description_width": ""
          }
        },
        "1edcd0a1332e42ee8dac0284f33b961d": {
          "model_module": "@jupyter-widgets/controls",
          "model_module_version": "1.5.0",
          "model_name": "HTMLModel",
          "state": {
            "_dom_classes": [],
            "_model_module": "@jupyter-widgets/controls",
            "_model_module_version": "1.5.0",
            "_model_name": "HTMLModel",
            "_view_count": null,
            "_view_module": "@jupyter-widgets/controls",
            "_view_module_version": "1.5.0",
            "_view_name": "HTMLView",
            "description": "",
            "description_tooltip": null,
            "layout": "IPY_MODEL_a07115f83bc24c738c0eacd1b3ad0da4",
            "placeholder": "​",
            "style": "IPY_MODEL_40c810a10f674029a3ca0defabf23820",
            "value": "Downloading: 100%"
          }
        },
        "2849cc9f0dae4ab0bdd4684d3ea5360a": {
          "model_module": "@jupyter-widgets/base",
          "model_module_version": "1.2.0",
          "model_name": "LayoutModel",
          "state": {
            "_model_module": "@jupyter-widgets/base",
            "_model_module_version": "1.2.0",
            "_model_name": "LayoutModel",
            "_view_count": null,
            "_view_module": "@jupyter-widgets/base",
            "_view_module_version": "1.2.0",
            "_view_name": "LayoutView",
            "align_content": null,
            "align_items": null,
            "align_self": null,
            "border": null,
            "bottom": null,
            "display": null,
            "flex": null,
            "flex_flow": null,
            "grid_area": null,
            "grid_auto_columns": null,
            "grid_auto_flow": null,
            "grid_auto_rows": null,
            "grid_column": null,
            "grid_gap": null,
            "grid_row": null,
            "grid_template_areas": null,
            "grid_template_columns": null,
            "grid_template_rows": null,
            "height": null,
            "justify_content": null,
            "justify_items": null,
            "left": null,
            "margin": null,
            "max_height": null,
            "max_width": null,
            "min_height": null,
            "min_width": null,
            "object_fit": null,
            "object_position": null,
            "order": null,
            "overflow": null,
            "overflow_x": null,
            "overflow_y": null,
            "padding": null,
            "right": null,
            "top": null,
            "visibility": null,
            "width": null
          }
        },
        "2a7bf0d967b2420bacac08ebb7a85d4c": {
          "model_module": "@jupyter-widgets/base",
          "model_module_version": "1.2.0",
          "model_name": "LayoutModel",
          "state": {
            "_model_module": "@jupyter-widgets/base",
            "_model_module_version": "1.2.0",
            "_model_name": "LayoutModel",
            "_view_count": null,
            "_view_module": "@jupyter-widgets/base",
            "_view_module_version": "1.2.0",
            "_view_name": "LayoutView",
            "align_content": null,
            "align_items": null,
            "align_self": null,
            "border": null,
            "bottom": null,
            "display": null,
            "flex": null,
            "flex_flow": null,
            "grid_area": null,
            "grid_auto_columns": null,
            "grid_auto_flow": null,
            "grid_auto_rows": null,
            "grid_column": null,
            "grid_gap": null,
            "grid_row": null,
            "grid_template_areas": null,
            "grid_template_columns": null,
            "grid_template_rows": null,
            "height": null,
            "justify_content": null,
            "justify_items": null,
            "left": null,
            "margin": null,
            "max_height": null,
            "max_width": null,
            "min_height": null,
            "min_width": null,
            "object_fit": null,
            "object_position": null,
            "order": null,
            "overflow": null,
            "overflow_x": null,
            "overflow_y": null,
            "padding": null,
            "right": null,
            "top": null,
            "visibility": null,
            "width": null
          }
        },
        "2ab1ee8c46614305a50d701368c78373": {
          "model_module": "@jupyter-widgets/base",
          "model_module_version": "1.2.0",
          "model_name": "LayoutModel",
          "state": {
            "_model_module": "@jupyter-widgets/base",
            "_model_module_version": "1.2.0",
            "_model_name": "LayoutModel",
            "_view_count": null,
            "_view_module": "@jupyter-widgets/base",
            "_view_module_version": "1.2.0",
            "_view_name": "LayoutView",
            "align_content": null,
            "align_items": null,
            "align_self": null,
            "border": null,
            "bottom": null,
            "display": null,
            "flex": null,
            "flex_flow": null,
            "grid_area": null,
            "grid_auto_columns": null,
            "grid_auto_flow": null,
            "grid_auto_rows": null,
            "grid_column": null,
            "grid_gap": null,
            "grid_row": null,
            "grid_template_areas": null,
            "grid_template_columns": null,
            "grid_template_rows": null,
            "height": null,
            "justify_content": null,
            "justify_items": null,
            "left": null,
            "margin": null,
            "max_height": null,
            "max_width": null,
            "min_height": null,
            "min_width": null,
            "object_fit": null,
            "object_position": null,
            "order": null,
            "overflow": null,
            "overflow_x": null,
            "overflow_y": null,
            "padding": null,
            "right": null,
            "top": null,
            "visibility": null,
            "width": null
          }
        },
        "2c3ab5e9ecfb4409bf9a3d8b61660cdb": {
          "model_module": "@jupyter-widgets/controls",
          "model_module_version": "1.5.0",
          "model_name": "DescriptionStyleModel",
          "state": {
            "_model_module": "@jupyter-widgets/controls",
            "_model_module_version": "1.5.0",
            "_model_name": "DescriptionStyleModel",
            "_view_count": null,
            "_view_module": "@jupyter-widgets/base",
            "_view_module_version": "1.2.0",
            "_view_name": "StyleView",
            "description_width": ""
          }
        },
        "2cb5acd8808841fcb20e82f74d6de5aa": {
          "model_module": "@jupyter-widgets/controls",
          "model_module_version": "1.5.0",
          "model_name": "HTMLModel",
          "state": {
            "_dom_classes": [],
            "_model_module": "@jupyter-widgets/controls",
            "_model_module_version": "1.5.0",
            "_model_name": "HTMLModel",
            "_view_count": null,
            "_view_module": "@jupyter-widgets/controls",
            "_view_module_version": "1.5.0",
            "_view_name": "HTMLView",
            "description": "",
            "description_tooltip": null,
            "layout": "IPY_MODEL_0db743996a8e4035a8438a935c0d8409",
            "placeholder": "​",
            "style": "IPY_MODEL_2c3ab5e9ecfb4409bf9a3d8b61660cdb",
            "value": "Downloading: 100%"
          }
        },
        "33dea69b9ed247348a88dd1d5df9eef8": {
          "model_module": "@jupyter-widgets/controls",
          "model_module_version": "1.5.0",
          "model_name": "ProgressStyleModel",
          "state": {
            "_model_module": "@jupyter-widgets/controls",
            "_model_module_version": "1.5.0",
            "_model_name": "ProgressStyleModel",
            "_view_count": null,
            "_view_module": "@jupyter-widgets/base",
            "_view_module_version": "1.2.0",
            "_view_name": "StyleView",
            "bar_color": null,
            "description_width": ""
          }
        },
        "36e256c23071414089e150e7e198e99d": {
          "model_module": "@jupyter-widgets/controls",
          "model_module_version": "1.5.0",
          "model_name": "FloatProgressModel",
          "state": {
            "_dom_classes": [],
            "_model_module": "@jupyter-widgets/controls",
            "_model_module_version": "1.5.0",
            "_model_name": "FloatProgressModel",
            "_view_count": null,
            "_view_module": "@jupyter-widgets/controls",
            "_view_module_version": "1.5.0",
            "_view_name": "ProgressView",
            "bar_style": "success",
            "description": "",
            "description_tooltip": null,
            "layout": "IPY_MODEL_5637330169294ccfb11d730f6dff2ecb",
            "max": 5,
            "min": 0,
            "orientation": "horizontal",
            "style": "IPY_MODEL_6d129a64c3934277a016f16622fc44e8",
            "value": 5
          }
        },
        "40c810a10f674029a3ca0defabf23820": {
          "model_module": "@jupyter-widgets/controls",
          "model_module_version": "1.5.0",
          "model_name": "DescriptionStyleModel",
          "state": {
            "_model_module": "@jupyter-widgets/controls",
            "_model_module_version": "1.5.0",
            "_model_name": "DescriptionStyleModel",
            "_view_count": null,
            "_view_module": "@jupyter-widgets/base",
            "_view_module_version": "1.2.0",
            "_view_name": "StyleView",
            "description_width": ""
          }
        },
        "47eb282bbb1b49b698d330a57e7ba796": {
          "model_module": "@jupyter-widgets/controls",
          "model_module_version": "1.5.0",
          "model_name": "FloatProgressModel",
          "state": {
            "_dom_classes": [],
            "_model_module": "@jupyter-widgets/controls",
            "_model_module_version": "1.5.0",
            "_model_name": "FloatProgressModel",
            "_view_count": null,
            "_view_module": "@jupyter-widgets/controls",
            "_view_module_version": "1.5.0",
            "_view_name": "ProgressView",
            "bar_style": "success",
            "description": "",
            "description_tooltip": null,
            "layout": "IPY_MODEL_a224b38f997546b89864115f0dae8d2c",
            "max": 28,
            "min": 0,
            "orientation": "horizontal",
            "style": "IPY_MODEL_bb6b69e490354d879930f7d85a53c73d",
            "value": 28
          }
        },
        "4dff7c5ce7ea4a7aa8b53621ff1f041a": {
          "model_module": "@jupyter-widgets/controls",
          "model_module_version": "1.5.0",
          "model_name": "DescriptionStyleModel",
          "state": {
            "_model_module": "@jupyter-widgets/controls",
            "_model_module_version": "1.5.0",
            "_model_name": "DescriptionStyleModel",
            "_view_count": null,
            "_view_module": "@jupyter-widgets/base",
            "_view_module_version": "1.2.0",
            "_view_name": "StyleView",
            "description_width": ""
          }
        },
        "50769858dd68421cb7ac60e30b0afdde": {
          "model_module": "@jupyter-widgets/controls",
          "model_module_version": "1.5.0",
          "model_name": "DescriptionStyleModel",
          "state": {
            "_model_module": "@jupyter-widgets/controls",
            "_model_module_version": "1.5.0",
            "_model_name": "DescriptionStyleModel",
            "_view_count": null,
            "_view_module": "@jupyter-widgets/base",
            "_view_module_version": "1.2.0",
            "_view_name": "StyleView",
            "description_width": ""
          }
        },
        "52b8978f041b4d8a8ad1edddc95f3853": {
          "model_module": "@jupyter-widgets/controls",
          "model_module_version": "1.5.0",
          "model_name": "HTMLModel",
          "state": {
            "_dom_classes": [],
            "_model_module": "@jupyter-widgets/controls",
            "_model_module_version": "1.5.0",
            "_model_name": "HTMLModel",
            "_view_count": null,
            "_view_module": "@jupyter-widgets/controls",
            "_view_module_version": "1.5.0",
            "_view_name": "HTMLView",
            "description": "",
            "description_tooltip": null,
            "layout": "IPY_MODEL_09861bf90fae41b1af04651164531ce8",
            "placeholder": "​",
            "style": "IPY_MODEL_4dff7c5ce7ea4a7aa8b53621ff1f041a",
            "value": "100%"
          }
        },
        "52e5f89e6bd340b7b7ffe9b7181e05ae": {
          "model_module": "@jupyter-widgets/controls",
          "model_module_version": "1.5.0",
          "model_name": "HTMLModel",
          "state": {
            "_dom_classes": [],
            "_model_module": "@jupyter-widgets/controls",
            "_model_module_version": "1.5.0",
            "_model_name": "HTMLModel",
            "_view_count": null,
            "_view_module": "@jupyter-widgets/controls",
            "_view_module_version": "1.5.0",
            "_view_name": "HTMLView",
            "description": "",
            "description_tooltip": null,
            "layout": "IPY_MODEL_625b5f06561e4e7d8be6b31321fdd7d7",
            "placeholder": "​",
            "style": "IPY_MODEL_c25e5c58a0c14a598abed7d449a82c40",
            "value": " 20/20 [00:51&lt;00:00,  2.07s/ba]"
          }
        },
        "53827e4016a949e0bfc7c11598cb4c0d": {
          "model_module": "@jupyter-widgets/controls",
          "model_module_version": "1.5.0",
          "model_name": "HBoxModel",
          "state": {
            "_dom_classes": [],
            "_model_module": "@jupyter-widgets/controls",
            "_model_module_version": "1.5.0",
            "_model_name": "HBoxModel",
            "_view_count": null,
            "_view_module": "@jupyter-widgets/controls",
            "_view_module_version": "1.5.0",
            "_view_name": "HBoxView",
            "box_style": "",
            "children": [
              "IPY_MODEL_1edcd0a1332e42ee8dac0284f33b961d",
              "IPY_MODEL_da1bea0fa74449b180c572be97798266",
              "IPY_MODEL_e1f61ae9f81847af8ad676a561cf883c"
            ],
            "layout": "IPY_MODEL_d9ac790aeaa54d1db3399ae751360805"
          }
        },
        "5637330169294ccfb11d730f6dff2ecb": {
          "model_module": "@jupyter-widgets/base",
          "model_module_version": "1.2.0",
          "model_name": "LayoutModel",
          "state": {
            "_model_module": "@jupyter-widgets/base",
            "_model_module_version": "1.2.0",
            "_model_name": "LayoutModel",
            "_view_count": null,
            "_view_module": "@jupyter-widgets/base",
            "_view_module_version": "1.2.0",
            "_view_name": "LayoutView",
            "align_content": null,
            "align_items": null,
            "align_self": null,
            "border": null,
            "bottom": null,
            "display": null,
            "flex": null,
            "flex_flow": null,
            "grid_area": null,
            "grid_auto_columns": null,
            "grid_auto_flow": null,
            "grid_auto_rows": null,
            "grid_column": null,
            "grid_gap": null,
            "grid_row": null,
            "grid_template_areas": null,
            "grid_template_columns": null,
            "grid_template_rows": null,
            "height": null,
            "justify_content": null,
            "justify_items": null,
            "left": null,
            "margin": null,
            "max_height": null,
            "max_width": null,
            "min_height": null,
            "min_width": null,
            "object_fit": null,
            "object_position": null,
            "order": null,
            "overflow": null,
            "overflow_x": null,
            "overflow_y": null,
            "padding": null,
            "right": null,
            "top": null,
            "visibility": null,
            "width": null
          }
        },
        "57cf1e5549f249e3991894fae3e6c5db": {
          "model_module": "@jupyter-widgets/base",
          "model_module_version": "1.2.0",
          "model_name": "LayoutModel",
          "state": {
            "_model_module": "@jupyter-widgets/base",
            "_model_module_version": "1.2.0",
            "_model_name": "LayoutModel",
            "_view_count": null,
            "_view_module": "@jupyter-widgets/base",
            "_view_module_version": "1.2.0",
            "_view_name": "LayoutView",
            "align_content": null,
            "align_items": null,
            "align_self": null,
            "border": null,
            "bottom": null,
            "display": null,
            "flex": null,
            "flex_flow": null,
            "grid_area": null,
            "grid_auto_columns": null,
            "grid_auto_flow": null,
            "grid_auto_rows": null,
            "grid_column": null,
            "grid_gap": null,
            "grid_row": null,
            "grid_template_areas": null,
            "grid_template_columns": null,
            "grid_template_rows": null,
            "height": null,
            "justify_content": null,
            "justify_items": null,
            "left": null,
            "margin": null,
            "max_height": null,
            "max_width": null,
            "min_height": null,
            "min_width": null,
            "object_fit": null,
            "object_position": null,
            "order": null,
            "overflow": null,
            "overflow_x": null,
            "overflow_y": null,
            "padding": null,
            "right": null,
            "top": null,
            "visibility": null,
            "width": null
          }
        },
        "57ebfb57b4f043d5904f09c2bba62c00": {
          "model_module": "@jupyter-widgets/base",
          "model_module_version": "1.2.0",
          "model_name": "LayoutModel",
          "state": {
            "_model_module": "@jupyter-widgets/base",
            "_model_module_version": "1.2.0",
            "_model_name": "LayoutModel",
            "_view_count": null,
            "_view_module": "@jupyter-widgets/base",
            "_view_module_version": "1.2.0",
            "_view_name": "LayoutView",
            "align_content": null,
            "align_items": null,
            "align_self": null,
            "border": null,
            "bottom": null,
            "display": null,
            "flex": null,
            "flex_flow": null,
            "grid_area": null,
            "grid_auto_columns": null,
            "grid_auto_flow": null,
            "grid_auto_rows": null,
            "grid_column": null,
            "grid_gap": null,
            "grid_row": null,
            "grid_template_areas": null,
            "grid_template_columns": null,
            "grid_template_rows": null,
            "height": null,
            "justify_content": null,
            "justify_items": null,
            "left": null,
            "margin": null,
            "max_height": null,
            "max_width": null,
            "min_height": null,
            "min_width": null,
            "object_fit": null,
            "object_position": null,
            "order": null,
            "overflow": null,
            "overflow_x": null,
            "overflow_y": null,
            "padding": null,
            "right": null,
            "top": null,
            "visibility": null,
            "width": null
          }
        },
        "5df34b28bec34a2ebea86f8d4a2aa0f1": {
          "model_module": "@jupyter-widgets/controls",
          "model_module_version": "1.5.0",
          "model_name": "DescriptionStyleModel",
          "state": {
            "_model_module": "@jupyter-widgets/controls",
            "_model_module_version": "1.5.0",
            "_model_name": "DescriptionStyleModel",
            "_view_count": null,
            "_view_module": "@jupyter-widgets/base",
            "_view_module_version": "1.2.0",
            "_view_name": "StyleView",
            "description_width": ""
          }
        },
        "625b5f06561e4e7d8be6b31321fdd7d7": {
          "model_module": "@jupyter-widgets/base",
          "model_module_version": "1.2.0",
          "model_name": "LayoutModel",
          "state": {
            "_model_module": "@jupyter-widgets/base",
            "_model_module_version": "1.2.0",
            "_model_name": "LayoutModel",
            "_view_count": null,
            "_view_module": "@jupyter-widgets/base",
            "_view_module_version": "1.2.0",
            "_view_name": "LayoutView",
            "align_content": null,
            "align_items": null,
            "align_self": null,
            "border": null,
            "bottom": null,
            "display": null,
            "flex": null,
            "flex_flow": null,
            "grid_area": null,
            "grid_auto_columns": null,
            "grid_auto_flow": null,
            "grid_auto_rows": null,
            "grid_column": null,
            "grid_gap": null,
            "grid_row": null,
            "grid_template_areas": null,
            "grid_template_columns": null,
            "grid_template_rows": null,
            "height": null,
            "justify_content": null,
            "justify_items": null,
            "left": null,
            "margin": null,
            "max_height": null,
            "max_width": null,
            "min_height": null,
            "min_width": null,
            "object_fit": null,
            "object_position": null,
            "order": null,
            "overflow": null,
            "overflow_x": null,
            "overflow_y": null,
            "padding": null,
            "right": null,
            "top": null,
            "visibility": null,
            "width": null
          }
        },
        "62a7dd1026ef408a875c626dac8cba38": {
          "model_module": "@jupyter-widgets/controls",
          "model_module_version": "1.5.0",
          "model_name": "HTMLModel",
          "state": {
            "_dom_classes": [],
            "_model_module": "@jupyter-widgets/controls",
            "_model_module_version": "1.5.0",
            "_model_name": "HTMLModel",
            "_view_count": null,
            "_view_module": "@jupyter-widgets/controls",
            "_view_module_version": "1.5.0",
            "_view_name": "HTMLView",
            "description": "",
            "description_tooltip": null,
            "layout": "IPY_MODEL_ff66874256844c9e9a9edba1fc23d070",
            "placeholder": "​",
            "style": "IPY_MODEL_e52d0890cd954f528395ee059b3874a8",
            "value": "Downloading: 100%"
          }
        },
        "62ad488ef39549a89471eea552813f7f": {
          "model_module": "@jupyter-widgets/controls",
          "model_module_version": "1.5.0",
          "model_name": "FloatProgressModel",
          "state": {
            "_dom_classes": [],
            "_model_module": "@jupyter-widgets/controls",
            "_model_module_version": "1.5.0",
            "_model_name": "FloatProgressModel",
            "_view_count": null,
            "_view_module": "@jupyter-widgets/controls",
            "_view_module_version": "1.5.0",
            "_view_name": "ProgressView",
            "bar_style": "success",
            "description": "",
            "description_tooltip": null,
            "layout": "IPY_MODEL_6e6d85096353400fbdabc03d75ba7b24",
            "max": 267967963,
            "min": 0,
            "orientation": "horizontal",
            "style": "IPY_MODEL_d2fa8a76401f4ce9895f6201d3e03134",
            "value": 267967963
          }
        },
        "68a268f78d2144cf99281a959e30708b": {
          "model_module": "@jupyter-widgets/controls",
          "model_module_version": "1.5.0",
          "model_name": "HBoxModel",
          "state": {
            "_dom_classes": [],
            "_model_module": "@jupyter-widgets/controls",
            "_model_module_version": "1.5.0",
            "_model_name": "HBoxModel",
            "_view_count": null,
            "_view_module": "@jupyter-widgets/controls",
            "_view_module_version": "1.5.0",
            "_view_name": "HBoxView",
            "box_style": "",
            "children": [
              "IPY_MODEL_9a90aa68d59749b18fb3acfb94e13b10",
              "IPY_MODEL_62ad488ef39549a89471eea552813f7f",
              "IPY_MODEL_9bc89557863741a0a521577bdd934e57"
            ],
            "layout": "IPY_MODEL_8c353477973742edbacd17e9f352a928"
          }
        },
        "68e1b7ba339140a89709a33115c9ad7c": {
          "model_module": "@jupyter-widgets/base",
          "model_module_version": "1.2.0",
          "model_name": "LayoutModel",
          "state": {
            "_model_module": "@jupyter-widgets/base",
            "_model_module_version": "1.2.0",
            "_model_name": "LayoutModel",
            "_view_count": null,
            "_view_module": "@jupyter-widgets/base",
            "_view_module_version": "1.2.0",
            "_view_name": "LayoutView",
            "align_content": null,
            "align_items": null,
            "align_self": null,
            "border": null,
            "bottom": null,
            "display": null,
            "flex": null,
            "flex_flow": null,
            "grid_area": null,
            "grid_auto_columns": null,
            "grid_auto_flow": null,
            "grid_auto_rows": null,
            "grid_column": null,
            "grid_gap": null,
            "grid_row": null,
            "grid_template_areas": null,
            "grid_template_columns": null,
            "grid_template_rows": null,
            "height": null,
            "justify_content": null,
            "justify_items": null,
            "left": null,
            "margin": null,
            "max_height": null,
            "max_width": null,
            "min_height": null,
            "min_width": null,
            "object_fit": null,
            "object_position": null,
            "order": null,
            "overflow": null,
            "overflow_x": null,
            "overflow_y": null,
            "padding": null,
            "right": null,
            "top": null,
            "visibility": null,
            "width": null
          }
        },
        "6b49a373294c4f94b1d58bf8b64b01ab": {
          "model_module": "@jupyter-widgets/base",
          "model_module_version": "1.2.0",
          "model_name": "LayoutModel",
          "state": {
            "_model_module": "@jupyter-widgets/base",
            "_model_module_version": "1.2.0",
            "_model_name": "LayoutModel",
            "_view_count": null,
            "_view_module": "@jupyter-widgets/base",
            "_view_module_version": "1.2.0",
            "_view_name": "LayoutView",
            "align_content": null,
            "align_items": null,
            "align_self": null,
            "border": null,
            "bottom": null,
            "display": null,
            "flex": null,
            "flex_flow": null,
            "grid_area": null,
            "grid_auto_columns": null,
            "grid_auto_flow": null,
            "grid_auto_rows": null,
            "grid_column": null,
            "grid_gap": null,
            "grid_row": null,
            "grid_template_areas": null,
            "grid_template_columns": null,
            "grid_template_rows": null,
            "height": null,
            "justify_content": null,
            "justify_items": null,
            "left": null,
            "margin": null,
            "max_height": null,
            "max_width": null,
            "min_height": null,
            "min_width": null,
            "object_fit": null,
            "object_position": null,
            "order": null,
            "overflow": null,
            "overflow_x": null,
            "overflow_y": null,
            "padding": null,
            "right": null,
            "top": null,
            "visibility": null,
            "width": null
          }
        },
        "6d129a64c3934277a016f16622fc44e8": {
          "model_module": "@jupyter-widgets/controls",
          "model_module_version": "1.5.0",
          "model_name": "ProgressStyleModel",
          "state": {
            "_model_module": "@jupyter-widgets/controls",
            "_model_module_version": "1.5.0",
            "_model_name": "ProgressStyleModel",
            "_view_count": null,
            "_view_module": "@jupyter-widgets/base",
            "_view_module_version": "1.2.0",
            "_view_name": "StyleView",
            "bar_color": null,
            "description_width": ""
          }
        },
        "6e6d85096353400fbdabc03d75ba7b24": {
          "model_module": "@jupyter-widgets/base",
          "model_module_version": "1.2.0",
          "model_name": "LayoutModel",
          "state": {
            "_model_module": "@jupyter-widgets/base",
            "_model_module_version": "1.2.0",
            "_model_name": "LayoutModel",
            "_view_count": null,
            "_view_module": "@jupyter-widgets/base",
            "_view_module_version": "1.2.0",
            "_view_name": "LayoutView",
            "align_content": null,
            "align_items": null,
            "align_self": null,
            "border": null,
            "bottom": null,
            "display": null,
            "flex": null,
            "flex_flow": null,
            "grid_area": null,
            "grid_auto_columns": null,
            "grid_auto_flow": null,
            "grid_auto_rows": null,
            "grid_column": null,
            "grid_gap": null,
            "grid_row": null,
            "grid_template_areas": null,
            "grid_template_columns": null,
            "grid_template_rows": null,
            "height": null,
            "justify_content": null,
            "justify_items": null,
            "left": null,
            "margin": null,
            "max_height": null,
            "max_width": null,
            "min_height": null,
            "min_width": null,
            "object_fit": null,
            "object_position": null,
            "order": null,
            "overflow": null,
            "overflow_x": null,
            "overflow_y": null,
            "padding": null,
            "right": null,
            "top": null,
            "visibility": null,
            "width": null
          }
        },
        "7046bd8c36d943b6a58fb5bf24d66a76": {
          "model_module": "@jupyter-widgets/controls",
          "model_module_version": "1.5.0",
          "model_name": "HTMLModel",
          "state": {
            "_dom_classes": [],
            "_model_module": "@jupyter-widgets/controls",
            "_model_module_version": "1.5.0",
            "_model_name": "HTMLModel",
            "_view_count": null,
            "_view_module": "@jupyter-widgets/controls",
            "_view_module_version": "1.5.0",
            "_view_name": "HTMLView",
            "description": "",
            "description_tooltip": null,
            "layout": "IPY_MODEL_2a7bf0d967b2420bacac08ebb7a85d4c",
            "placeholder": "​",
            "style": "IPY_MODEL_1cacd63abb2642ed9fb6bce8e1968550",
            "value": " 28.0/28.0 [00:00&lt;00:00, 1.78kB/s]"
          }
        },
        "7228282ceb3c483bba41992f36a700a9": {
          "model_module": "@jupyter-widgets/base",
          "model_module_version": "1.2.0",
          "model_name": "LayoutModel",
          "state": {
            "_model_module": "@jupyter-widgets/base",
            "_model_module_version": "1.2.0",
            "_model_name": "LayoutModel",
            "_view_count": null,
            "_view_module": "@jupyter-widgets/base",
            "_view_module_version": "1.2.0",
            "_view_name": "LayoutView",
            "align_content": null,
            "align_items": null,
            "align_self": null,
            "border": null,
            "bottom": null,
            "display": null,
            "flex": null,
            "flex_flow": null,
            "grid_area": null,
            "grid_auto_columns": null,
            "grid_auto_flow": null,
            "grid_auto_rows": null,
            "grid_column": null,
            "grid_gap": null,
            "grid_row": null,
            "grid_template_areas": null,
            "grid_template_columns": null,
            "grid_template_rows": null,
            "height": null,
            "justify_content": null,
            "justify_items": null,
            "left": null,
            "margin": null,
            "max_height": null,
            "max_width": null,
            "min_height": null,
            "min_width": null,
            "object_fit": null,
            "object_position": null,
            "order": null,
            "overflow": null,
            "overflow_x": null,
            "overflow_y": null,
            "padding": null,
            "right": null,
            "top": null,
            "visibility": null,
            "width": null
          }
        },
        "746d713429da4fe9b830fade9271a1c6": {
          "model_module": "@jupyter-widgets/controls",
          "model_module_version": "1.5.0",
          "model_name": "ProgressStyleModel",
          "state": {
            "_model_module": "@jupyter-widgets/controls",
            "_model_module_version": "1.5.0",
            "_model_name": "ProgressStyleModel",
            "_view_count": null,
            "_view_module": "@jupyter-widgets/base",
            "_view_module_version": "1.2.0",
            "_view_name": "StyleView",
            "bar_color": null,
            "description_width": ""
          }
        },
        "79fb83c9dffb426ea1b273019484f218": {
          "model_module": "@jupyter-widgets/controls",
          "model_module_version": "1.5.0",
          "model_name": "HTMLModel",
          "state": {
            "_dom_classes": [],
            "_model_module": "@jupyter-widgets/controls",
            "_model_module_version": "1.5.0",
            "_model_name": "HTMLModel",
            "_view_count": null,
            "_view_module": "@jupyter-widgets/controls",
            "_view_module_version": "1.5.0",
            "_view_name": "HTMLView",
            "description": "",
            "description_tooltip": null,
            "layout": "IPY_MODEL_b986a54c2c104ad391d500080b8294d6",
            "placeholder": "​",
            "style": "IPY_MODEL_e565a2ed2a35423d8cc25b35123bfc89",
            "value": " 232k/232k [00:00&lt;00:00, 1.83MB/s]"
          }
        },
        "7bbe6e1701034e168f530d82e3b6e0fc": {
          "model_module": "@jupyter-widgets/controls",
          "model_module_version": "1.5.0",
          "model_name": "DescriptionStyleModel",
          "state": {
            "_model_module": "@jupyter-widgets/controls",
            "_model_module_version": "1.5.0",
            "_model_name": "DescriptionStyleModel",
            "_view_count": null,
            "_view_module": "@jupyter-widgets/base",
            "_view_module_version": "1.2.0",
            "_view_name": "StyleView",
            "description_width": ""
          }
        },
        "7d3bedc944604b768324131848c2c1be": {
          "model_module": "@jupyter-widgets/controls",
          "model_module_version": "1.5.0",
          "model_name": "HTMLModel",
          "state": {
            "_dom_classes": [],
            "_model_module": "@jupyter-widgets/controls",
            "_model_module_version": "1.5.0",
            "_model_name": "HTMLModel",
            "_view_count": null,
            "_view_module": "@jupyter-widgets/controls",
            "_view_module_version": "1.5.0",
            "_view_name": "HTMLView",
            "description": "",
            "description_tooltip": null,
            "layout": "IPY_MODEL_0f4b9f0785644d5f9da3ce9e8eae1310",
            "placeholder": "​",
            "style": "IPY_MODEL_d3df64262c304354b8151a53c7304379",
            "value": " 6.33k/? [00:00&lt;00:00, 403kB/s]"
          }
        },
        "80c807f2c6a946febc68e60fd7ecc0ac": {
          "model_module": "@jupyter-widgets/controls",
          "model_module_version": "1.5.0",
          "model_name": "HTMLModel",
          "state": {
            "_dom_classes": [],
            "_model_module": "@jupyter-widgets/controls",
            "_model_module_version": "1.5.0",
            "_model_name": "HTMLModel",
            "_view_count": null,
            "_view_module": "@jupyter-widgets/controls",
            "_view_module_version": "1.5.0",
            "_view_name": "HTMLView",
            "description": "",
            "description_tooltip": null,
            "layout": "IPY_MODEL_2ab1ee8c46614305a50d701368c78373",
            "placeholder": "​",
            "style": "IPY_MODEL_c705c92dfac64e8582c04a7733e6f790",
            "value": "Downloading: 100%"
          }
        },
        "8c353477973742edbacd17e9f352a928": {
          "model_module": "@jupyter-widgets/base",
          "model_module_version": "1.2.0",
          "model_name": "LayoutModel",
          "state": {
            "_model_module": "@jupyter-widgets/base",
            "_model_module_version": "1.2.0",
            "_model_name": "LayoutModel",
            "_view_count": null,
            "_view_module": "@jupyter-widgets/base",
            "_view_module_version": "1.2.0",
            "_view_name": "LayoutView",
            "align_content": null,
            "align_items": null,
            "align_self": null,
            "border": null,
            "bottom": null,
            "display": null,
            "flex": null,
            "flex_flow": null,
            "grid_area": null,
            "grid_auto_columns": null,
            "grid_auto_flow": null,
            "grid_auto_rows": null,
            "grid_column": null,
            "grid_gap": null,
            "grid_row": null,
            "grid_template_areas": null,
            "grid_template_columns": null,
            "grid_template_rows": null,
            "height": null,
            "justify_content": null,
            "justify_items": null,
            "left": null,
            "margin": null,
            "max_height": null,
            "max_width": null,
            "min_height": null,
            "min_width": null,
            "object_fit": null,
            "object_position": null,
            "order": null,
            "overflow": null,
            "overflow_x": null,
            "overflow_y": null,
            "padding": null,
            "right": null,
            "top": null,
            "visibility": null,
            "width": null
          }
        },
        "931a74dc6b9b4025ac5c08db76f13e1b": {
          "model_module": "@jupyter-widgets/controls",
          "model_module_version": "1.5.0",
          "model_name": "HBoxModel",
          "state": {
            "_dom_classes": [],
            "_model_module": "@jupyter-widgets/controls",
            "_model_module_version": "1.5.0",
            "_model_name": "HBoxModel",
            "_view_count": null,
            "_view_module": "@jupyter-widgets/controls",
            "_view_module_version": "1.5.0",
            "_view_name": "HBoxView",
            "box_style": "",
            "children": [
              "IPY_MODEL_52b8978f041b4d8a8ad1edddc95f3853",
              "IPY_MODEL_992dc91371654d6b9a4c5695004a6a53",
              "IPY_MODEL_52e5f89e6bd340b7b7ffe9b7181e05ae"
            ],
            "layout": "IPY_MODEL_0228b1c233964d008debe668738b62e4"
          }
        },
        "96dac42ffebd45b2a9c9111cf87ccb09": {
          "model_module": "@jupyter-widgets/controls",
          "model_module_version": "1.5.0",
          "model_name": "FloatProgressModel",
          "state": {
            "_dom_classes": [],
            "_model_module": "@jupyter-widgets/controls",
            "_model_module_version": "1.5.0",
            "_model_name": "FloatProgressModel",
            "_view_count": null,
            "_view_module": "@jupyter-widgets/controls",
            "_view_module_version": "1.5.0",
            "_view_name": "ProgressView",
            "bar_style": "success",
            "description": "",
            "description_tooltip": null,
            "layout": "IPY_MODEL_014e392d5f044855aecd78b12284bcf2",
            "max": 231508,
            "min": 0,
            "orientation": "horizontal",
            "style": "IPY_MODEL_33dea69b9ed247348a88dd1d5df9eef8",
            "value": 231508
          }
        },
        "975b46f6c13348e49dd04d0c42aa2b7a": {
          "model_module": "@jupyter-widgets/controls",
          "model_module_version": "1.5.0",
          "model_name": "DescriptionStyleModel",
          "state": {
            "_model_module": "@jupyter-widgets/controls",
            "_model_module_version": "1.5.0",
            "_model_name": "DescriptionStyleModel",
            "_view_count": null,
            "_view_module": "@jupyter-widgets/base",
            "_view_module_version": "1.2.0",
            "_view_name": "StyleView",
            "description_width": ""
          }
        },
        "980171f767524e89ad74ab7d9ea10b0a": {
          "model_module": "@jupyter-widgets/base",
          "model_module_version": "1.2.0",
          "model_name": "LayoutModel",
          "state": {
            "_model_module": "@jupyter-widgets/base",
            "_model_module_version": "1.2.0",
            "_model_name": "LayoutModel",
            "_view_count": null,
            "_view_module": "@jupyter-widgets/base",
            "_view_module_version": "1.2.0",
            "_view_name": "LayoutView",
            "align_content": null,
            "align_items": null,
            "align_self": null,
            "border": null,
            "bottom": null,
            "display": null,
            "flex": null,
            "flex_flow": null,
            "grid_area": null,
            "grid_auto_columns": null,
            "grid_auto_flow": null,
            "grid_auto_rows": null,
            "grid_column": null,
            "grid_gap": null,
            "grid_row": null,
            "grid_template_areas": null,
            "grid_template_columns": null,
            "grid_template_rows": null,
            "height": null,
            "justify_content": null,
            "justify_items": null,
            "left": null,
            "margin": null,
            "max_height": null,
            "max_width": null,
            "min_height": null,
            "min_width": null,
            "object_fit": null,
            "object_position": null,
            "order": null,
            "overflow": null,
            "overflow_x": null,
            "overflow_y": null,
            "padding": null,
            "right": null,
            "top": null,
            "visibility": null,
            "width": null
          }
        },
        "992dc91371654d6b9a4c5695004a6a53": {
          "model_module": "@jupyter-widgets/controls",
          "model_module_version": "1.5.0",
          "model_name": "FloatProgressModel",
          "state": {
            "_dom_classes": [],
            "_model_module": "@jupyter-widgets/controls",
            "_model_module_version": "1.5.0",
            "_model_name": "FloatProgressModel",
            "_view_count": null,
            "_view_module": "@jupyter-widgets/controls",
            "_view_module_version": "1.5.0",
            "_view_name": "ProgressView",
            "bar_style": "success",
            "description": "",
            "description_tooltip": null,
            "layout": "IPY_MODEL_2849cc9f0dae4ab0bdd4684d3ea5360a",
            "max": 20,
            "min": 0,
            "orientation": "horizontal",
            "style": "IPY_MODEL_c634b292db8d46f5aca0c684a54d0fb5",
            "value": 20
          }
        },
        "993a642dfea94fd9b2ad437af3dc4a45": {
          "model_module": "@jupyter-widgets/base",
          "model_module_version": "1.2.0",
          "model_name": "LayoutModel",
          "state": {
            "_model_module": "@jupyter-widgets/base",
            "_model_module_version": "1.2.0",
            "_model_name": "LayoutModel",
            "_view_count": null,
            "_view_module": "@jupyter-widgets/base",
            "_view_module_version": "1.2.0",
            "_view_name": "LayoutView",
            "align_content": null,
            "align_items": null,
            "align_self": null,
            "border": null,
            "bottom": null,
            "display": null,
            "flex": null,
            "flex_flow": null,
            "grid_area": null,
            "grid_auto_columns": null,
            "grid_auto_flow": null,
            "grid_auto_rows": null,
            "grid_column": null,
            "grid_gap": null,
            "grid_row": null,
            "grid_template_areas": null,
            "grid_template_columns": null,
            "grid_template_rows": null,
            "height": null,
            "justify_content": null,
            "justify_items": null,
            "left": null,
            "margin": null,
            "max_height": null,
            "max_width": null,
            "min_height": null,
            "min_width": null,
            "object_fit": null,
            "object_position": null,
            "order": null,
            "overflow": null,
            "overflow_x": null,
            "overflow_y": null,
            "padding": null,
            "right": null,
            "top": null,
            "visibility": null,
            "width": null
          }
        },
        "99da3dcf00ba46bba9ace465d63a2f36": {
          "model_module": "@jupyter-widgets/controls",
          "model_module_version": "1.5.0",
          "model_name": "FloatProgressModel",
          "state": {
            "_dom_classes": [],
            "_model_module": "@jupyter-widgets/controls",
            "_model_module_version": "1.5.0",
            "_model_name": "FloatProgressModel",
            "_view_count": null,
            "_view_module": "@jupyter-widgets/controls",
            "_view_module_version": "1.5.0",
            "_view_name": "ProgressView",
            "bar_style": "success",
            "description": "",
            "description_tooltip": null,
            "layout": "IPY_MODEL_6b49a373294c4f94b1d58bf8b64b01ab",
            "max": 2472,
            "min": 0,
            "orientation": "horizontal",
            "style": "IPY_MODEL_746d713429da4fe9b830fade9271a1c6",
            "value": 2472
          }
        },
        "9a90aa68d59749b18fb3acfb94e13b10": {
          "model_module": "@jupyter-widgets/controls",
          "model_module_version": "1.5.0",
          "model_name": "HTMLModel",
          "state": {
            "_dom_classes": [],
            "_model_module": "@jupyter-widgets/controls",
            "_model_module_version": "1.5.0",
            "_model_name": "HTMLModel",
            "_view_count": null,
            "_view_module": "@jupyter-widgets/controls",
            "_view_module_version": "1.5.0",
            "_view_name": "HTMLView",
            "description": "",
            "description_tooltip": null,
            "layout": "IPY_MODEL_68e1b7ba339140a89709a33115c9ad7c",
            "placeholder": "​",
            "style": "IPY_MODEL_7bbe6e1701034e168f530d82e3b6e0fc",
            "value": "Downloading: 100%"
          }
        },
        "9bc89557863741a0a521577bdd934e57": {
          "model_module": "@jupyter-widgets/controls",
          "model_module_version": "1.5.0",
          "model_name": "HTMLModel",
          "state": {
            "_dom_classes": [],
            "_model_module": "@jupyter-widgets/controls",
            "_model_module_version": "1.5.0",
            "_model_name": "HTMLModel",
            "_view_count": null,
            "_view_module": "@jupyter-widgets/controls",
            "_view_module_version": "1.5.0",
            "_view_name": "HTMLView",
            "description": "",
            "description_tooltip": null,
            "layout": "IPY_MODEL_993a642dfea94fd9b2ad437af3dc4a45",
            "placeholder": "​",
            "style": "IPY_MODEL_50769858dd68421cb7ac60e30b0afdde",
            "value": " 268M/268M [00:03&lt;00:00, 76.0MB/s]"
          }
        },
        "a07115f83bc24c738c0eacd1b3ad0da4": {
          "model_module": "@jupyter-widgets/base",
          "model_module_version": "1.2.0",
          "model_name": "LayoutModel",
          "state": {
            "_model_module": "@jupyter-widgets/base",
            "_model_module_version": "1.2.0",
            "_model_name": "LayoutModel",
            "_view_count": null,
            "_view_module": "@jupyter-widgets/base",
            "_view_module_version": "1.2.0",
            "_view_name": "LayoutView",
            "align_content": null,
            "align_items": null,
            "align_self": null,
            "border": null,
            "bottom": null,
            "display": null,
            "flex": null,
            "flex_flow": null,
            "grid_area": null,
            "grid_auto_columns": null,
            "grid_auto_flow": null,
            "grid_auto_rows": null,
            "grid_column": null,
            "grid_gap": null,
            "grid_row": null,
            "grid_template_areas": null,
            "grid_template_columns": null,
            "grid_template_rows": null,
            "height": null,
            "justify_content": null,
            "justify_items": null,
            "left": null,
            "margin": null,
            "max_height": null,
            "max_width": null,
            "min_height": null,
            "min_width": null,
            "object_fit": null,
            "object_position": null,
            "order": null,
            "overflow": null,
            "overflow_x": null,
            "overflow_y": null,
            "padding": null,
            "right": null,
            "top": null,
            "visibility": null,
            "width": null
          }
        },
        "a224b38f997546b89864115f0dae8d2c": {
          "model_module": "@jupyter-widgets/base",
          "model_module_version": "1.2.0",
          "model_name": "LayoutModel",
          "state": {
            "_model_module": "@jupyter-widgets/base",
            "_model_module_version": "1.2.0",
            "_model_name": "LayoutModel",
            "_view_count": null,
            "_view_module": "@jupyter-widgets/base",
            "_view_module_version": "1.2.0",
            "_view_name": "LayoutView",
            "align_content": null,
            "align_items": null,
            "align_self": null,
            "border": null,
            "bottom": null,
            "display": null,
            "flex": null,
            "flex_flow": null,
            "grid_area": null,
            "grid_auto_columns": null,
            "grid_auto_flow": null,
            "grid_auto_rows": null,
            "grid_column": null,
            "grid_gap": null,
            "grid_row": null,
            "grid_template_areas": null,
            "grid_template_columns": null,
            "grid_template_rows": null,
            "height": null,
            "justify_content": null,
            "justify_items": null,
            "left": null,
            "margin": null,
            "max_height": null,
            "max_width": null,
            "min_height": null,
            "min_width": null,
            "object_fit": null,
            "object_position": null,
            "order": null,
            "overflow": null,
            "overflow_x": null,
            "overflow_y": null,
            "padding": null,
            "right": null,
            "top": null,
            "visibility": null,
            "width": null
          }
        },
        "a8062264d41847fba8cb6f9082abaeeb": {
          "model_module": "@jupyter-widgets/controls",
          "model_module_version": "1.5.0",
          "model_name": "ProgressStyleModel",
          "state": {
            "_model_module": "@jupyter-widgets/controls",
            "_model_module_version": "1.5.0",
            "_model_name": "ProgressStyleModel",
            "_view_count": null,
            "_view_module": "@jupyter-widgets/base",
            "_view_module_version": "1.2.0",
            "_view_name": "StyleView",
            "bar_color": null,
            "description_width": ""
          }
        },
        "b2746642a2a94d79b8fbf176fbf8a8f2": {
          "model_module": "@jupyter-widgets/controls",
          "model_module_version": "1.5.0",
          "model_name": "HTMLModel",
          "state": {
            "_dom_classes": [],
            "_model_module": "@jupyter-widgets/controls",
            "_model_module_version": "1.5.0",
            "_model_name": "HTMLModel",
            "_view_count": null,
            "_view_module": "@jupyter-widgets/controls",
            "_view_module_version": "1.5.0",
            "_view_name": "HTMLView",
            "description": "",
            "description_tooltip": null,
            "layout": "IPY_MODEL_d1549ec31a6b4185a6c7381627d68d97",
            "placeholder": "​",
            "style": "IPY_MODEL_5df34b28bec34a2ebea86f8d4a2aa0f1",
            "value": "Downloading builder script: "
          }
        },
        "b3d77b188d1842ac8894d1c543191be9": {
          "model_module": "@jupyter-widgets/base",
          "model_module_version": "1.2.0",
          "model_name": "LayoutModel",
          "state": {
            "_model_module": "@jupyter-widgets/base",
            "_model_module_version": "1.2.0",
            "_model_name": "LayoutModel",
            "_view_count": null,
            "_view_module": "@jupyter-widgets/base",
            "_view_module_version": "1.2.0",
            "_view_name": "LayoutView",
            "align_content": null,
            "align_items": null,
            "align_self": null,
            "border": null,
            "bottom": null,
            "display": null,
            "flex": null,
            "flex_flow": null,
            "grid_area": null,
            "grid_auto_columns": null,
            "grid_auto_flow": null,
            "grid_auto_rows": null,
            "grid_column": null,
            "grid_gap": null,
            "grid_row": null,
            "grid_template_areas": null,
            "grid_template_columns": null,
            "grid_template_rows": null,
            "height": null,
            "justify_content": null,
            "justify_items": null,
            "left": null,
            "margin": null,
            "max_height": null,
            "max_width": null,
            "min_height": null,
            "min_width": null,
            "object_fit": null,
            "object_position": null,
            "order": null,
            "overflow": null,
            "overflow_x": null,
            "overflow_y": null,
            "padding": null,
            "right": null,
            "top": null,
            "visibility": null,
            "width": null
          }
        },
        "b986a54c2c104ad391d500080b8294d6": {
          "model_module": "@jupyter-widgets/base",
          "model_module_version": "1.2.0",
          "model_name": "LayoutModel",
          "state": {
            "_model_module": "@jupyter-widgets/base",
            "_model_module_version": "1.2.0",
            "_model_name": "LayoutModel",
            "_view_count": null,
            "_view_module": "@jupyter-widgets/base",
            "_view_module_version": "1.2.0",
            "_view_name": "LayoutView",
            "align_content": null,
            "align_items": null,
            "align_self": null,
            "border": null,
            "bottom": null,
            "display": null,
            "flex": null,
            "flex_flow": null,
            "grid_area": null,
            "grid_auto_columns": null,
            "grid_auto_flow": null,
            "grid_auto_rows": null,
            "grid_column": null,
            "grid_gap": null,
            "grid_row": null,
            "grid_template_areas": null,
            "grid_template_columns": null,
            "grid_template_rows": null,
            "height": null,
            "justify_content": null,
            "justify_items": null,
            "left": null,
            "margin": null,
            "max_height": null,
            "max_width": null,
            "min_height": null,
            "min_width": null,
            "object_fit": null,
            "object_position": null,
            "order": null,
            "overflow": null,
            "overflow_x": null,
            "overflow_y": null,
            "padding": null,
            "right": null,
            "top": null,
            "visibility": null,
            "width": null
          }
        },
        "bb6b69e490354d879930f7d85a53c73d": {
          "model_module": "@jupyter-widgets/controls",
          "model_module_version": "1.5.0",
          "model_name": "ProgressStyleModel",
          "state": {
            "_model_module": "@jupyter-widgets/controls",
            "_model_module_version": "1.5.0",
            "_model_name": "ProgressStyleModel",
            "_view_count": null,
            "_view_module": "@jupyter-widgets/base",
            "_view_module_version": "1.2.0",
            "_view_name": "StyleView",
            "bar_color": null,
            "description_width": ""
          }
        },
        "c08072d6a8234f42a0a22eb49504c5fa": {
          "model_module": "@jupyter-widgets/base",
          "model_module_version": "1.2.0",
          "model_name": "LayoutModel",
          "state": {
            "_model_module": "@jupyter-widgets/base",
            "_model_module_version": "1.2.0",
            "_model_name": "LayoutModel",
            "_view_count": null,
            "_view_module": "@jupyter-widgets/base",
            "_view_module_version": "1.2.0",
            "_view_name": "LayoutView",
            "align_content": null,
            "align_items": null,
            "align_self": null,
            "border": null,
            "bottom": null,
            "display": null,
            "flex": null,
            "flex_flow": null,
            "grid_area": null,
            "grid_auto_columns": null,
            "grid_auto_flow": null,
            "grid_auto_rows": null,
            "grid_column": null,
            "grid_gap": null,
            "grid_row": null,
            "grid_template_areas": null,
            "grid_template_columns": null,
            "grid_template_rows": null,
            "height": null,
            "justify_content": null,
            "justify_items": null,
            "left": null,
            "margin": null,
            "max_height": null,
            "max_width": null,
            "min_height": null,
            "min_width": null,
            "object_fit": null,
            "object_position": null,
            "order": null,
            "overflow": null,
            "overflow_x": null,
            "overflow_y": null,
            "padding": null,
            "right": null,
            "top": null,
            "visibility": null,
            "width": null
          }
        },
        "c0c695e236bb437facf97113da1ddc86": {
          "model_module": "@jupyter-widgets/controls",
          "model_module_version": "1.5.0",
          "model_name": "HTMLModel",
          "state": {
            "_dom_classes": [],
            "_model_module": "@jupyter-widgets/controls",
            "_model_module_version": "1.5.0",
            "_model_name": "HTMLModel",
            "_view_count": null,
            "_view_module": "@jupyter-widgets/controls",
            "_view_module_version": "1.5.0",
            "_view_name": "HTMLView",
            "description": "",
            "description_tooltip": null,
            "layout": "IPY_MODEL_57cf1e5549f249e3991894fae3e6c5db",
            "placeholder": "​",
            "style": "IPY_MODEL_e1b975be23524a168516129c8c10fe8e",
            "value": " 483/483 [00:00&lt;00:00, 26.5kB/s]"
          }
        },
        "c25e5c58a0c14a598abed7d449a82c40": {
          "model_module": "@jupyter-widgets/controls",
          "model_module_version": "1.5.0",
          "model_name": "DescriptionStyleModel",
          "state": {
            "_model_module": "@jupyter-widgets/controls",
            "_model_module_version": "1.5.0",
            "_model_name": "DescriptionStyleModel",
            "_view_count": null,
            "_view_module": "@jupyter-widgets/base",
            "_view_module_version": "1.2.0",
            "_view_name": "StyleView",
            "description_width": ""
          }
        },
        "c417412a013c4f188d53067365079ea5": {
          "model_module": "@jupyter-widgets/controls",
          "model_module_version": "1.5.0",
          "model_name": "HBoxModel",
          "state": {
            "_dom_classes": [],
            "_model_module": "@jupyter-widgets/controls",
            "_model_module_version": "1.5.0",
            "_model_name": "HBoxModel",
            "_view_count": null,
            "_view_module": "@jupyter-widgets/controls",
            "_view_module_version": "1.5.0",
            "_view_name": "HBoxView",
            "box_style": "",
            "children": [
              "IPY_MODEL_62a7dd1026ef408a875c626dac8cba38",
              "IPY_MODEL_96dac42ffebd45b2a9c9111cf87ccb09",
              "IPY_MODEL_79fb83c9dffb426ea1b273019484f218"
            ],
            "layout": "IPY_MODEL_0fb3de6688e948eab786fb0665881b9d"
          }
        },
        "c634b292db8d46f5aca0c684a54d0fb5": {
          "model_module": "@jupyter-widgets/controls",
          "model_module_version": "1.5.0",
          "model_name": "ProgressStyleModel",
          "state": {
            "_model_module": "@jupyter-widgets/controls",
            "_model_module_version": "1.5.0",
            "_model_name": "ProgressStyleModel",
            "_view_count": null,
            "_view_module": "@jupyter-widgets/base",
            "_view_module_version": "1.2.0",
            "_view_name": "StyleView",
            "bar_color": null,
            "description_width": ""
          }
        },
        "c705c92dfac64e8582c04a7733e6f790": {
          "model_module": "@jupyter-widgets/controls",
          "model_module_version": "1.5.0",
          "model_name": "DescriptionStyleModel",
          "state": {
            "_model_module": "@jupyter-widgets/controls",
            "_model_module_version": "1.5.0",
            "_model_name": "DescriptionStyleModel",
            "_view_count": null,
            "_view_module": "@jupyter-widgets/base",
            "_view_module_version": "1.2.0",
            "_view_name": "StyleView",
            "description_width": ""
          }
        },
        "c99afbc638c64fbf851d350e04c7483c": {
          "model_module": "@jupyter-widgets/base",
          "model_module_version": "1.2.0",
          "model_name": "LayoutModel",
          "state": {
            "_model_module": "@jupyter-widgets/base",
            "_model_module_version": "1.2.0",
            "_model_name": "LayoutModel",
            "_view_count": null,
            "_view_module": "@jupyter-widgets/base",
            "_view_module_version": "1.2.0",
            "_view_name": "LayoutView",
            "align_content": null,
            "align_items": null,
            "align_self": null,
            "border": null,
            "bottom": null,
            "display": null,
            "flex": null,
            "flex_flow": null,
            "grid_area": null,
            "grid_auto_columns": null,
            "grid_auto_flow": null,
            "grid_auto_rows": null,
            "grid_column": null,
            "grid_gap": null,
            "grid_row": null,
            "grid_template_areas": null,
            "grid_template_columns": null,
            "grid_template_rows": null,
            "height": null,
            "justify_content": null,
            "justify_items": null,
            "left": null,
            "margin": null,
            "max_height": null,
            "max_width": null,
            "min_height": null,
            "min_width": null,
            "object_fit": null,
            "object_position": null,
            "order": null,
            "overflow": null,
            "overflow_x": null,
            "overflow_y": null,
            "padding": null,
            "right": null,
            "top": null,
            "visibility": null,
            "width": null
          }
        },
        "d1549ec31a6b4185a6c7381627d68d97": {
          "model_module": "@jupyter-widgets/base",
          "model_module_version": "1.2.0",
          "model_name": "LayoutModel",
          "state": {
            "_model_module": "@jupyter-widgets/base",
            "_model_module_version": "1.2.0",
            "_model_name": "LayoutModel",
            "_view_count": null,
            "_view_module": "@jupyter-widgets/base",
            "_view_module_version": "1.2.0",
            "_view_name": "LayoutView",
            "align_content": null,
            "align_items": null,
            "align_self": null,
            "border": null,
            "bottom": null,
            "display": null,
            "flex": null,
            "flex_flow": null,
            "grid_area": null,
            "grid_auto_columns": null,
            "grid_auto_flow": null,
            "grid_auto_rows": null,
            "grid_column": null,
            "grid_gap": null,
            "grid_row": null,
            "grid_template_areas": null,
            "grid_template_columns": null,
            "grid_template_rows": null,
            "height": null,
            "justify_content": null,
            "justify_items": null,
            "left": null,
            "margin": null,
            "max_height": null,
            "max_width": null,
            "min_height": null,
            "min_width": null,
            "object_fit": null,
            "object_position": null,
            "order": null,
            "overflow": null,
            "overflow_x": null,
            "overflow_y": null,
            "padding": null,
            "right": null,
            "top": null,
            "visibility": null,
            "width": null
          }
        },
        "d2fa8a76401f4ce9895f6201d3e03134": {
          "model_module": "@jupyter-widgets/controls",
          "model_module_version": "1.5.0",
          "model_name": "ProgressStyleModel",
          "state": {
            "_model_module": "@jupyter-widgets/controls",
            "_model_module_version": "1.5.0",
            "_model_name": "ProgressStyleModel",
            "_view_count": null,
            "_view_module": "@jupyter-widgets/base",
            "_view_module_version": "1.2.0",
            "_view_name": "StyleView",
            "bar_color": null,
            "description_width": ""
          }
        },
        "d3df64262c304354b8151a53c7304379": {
          "model_module": "@jupyter-widgets/controls",
          "model_module_version": "1.5.0",
          "model_name": "DescriptionStyleModel",
          "state": {
            "_model_module": "@jupyter-widgets/controls",
            "_model_module_version": "1.5.0",
            "_model_name": "DescriptionStyleModel",
            "_view_count": null,
            "_view_module": "@jupyter-widgets/base",
            "_view_module_version": "1.2.0",
            "_view_name": "StyleView",
            "description_width": ""
          }
        },
        "d9ac790aeaa54d1db3399ae751360805": {
          "model_module": "@jupyter-widgets/base",
          "model_module_version": "1.2.0",
          "model_name": "LayoutModel",
          "state": {
            "_model_module": "@jupyter-widgets/base",
            "_model_module_version": "1.2.0",
            "_model_name": "LayoutModel",
            "_view_count": null,
            "_view_module": "@jupyter-widgets/base",
            "_view_module_version": "1.2.0",
            "_view_name": "LayoutView",
            "align_content": null,
            "align_items": null,
            "align_self": null,
            "border": null,
            "bottom": null,
            "display": null,
            "flex": null,
            "flex_flow": null,
            "grid_area": null,
            "grid_auto_columns": null,
            "grid_auto_flow": null,
            "grid_auto_rows": null,
            "grid_column": null,
            "grid_gap": null,
            "grid_row": null,
            "grid_template_areas": null,
            "grid_template_columns": null,
            "grid_template_rows": null,
            "height": null,
            "justify_content": null,
            "justify_items": null,
            "left": null,
            "margin": null,
            "max_height": null,
            "max_width": null,
            "min_height": null,
            "min_width": null,
            "object_fit": null,
            "object_position": null,
            "order": null,
            "overflow": null,
            "overflow_x": null,
            "overflow_y": null,
            "padding": null,
            "right": null,
            "top": null,
            "visibility": null,
            "width": null
          }
        },
        "da1bea0fa74449b180c572be97798266": {
          "model_module": "@jupyter-widgets/controls",
          "model_module_version": "1.5.0",
          "model_name": "FloatProgressModel",
          "state": {
            "_dom_classes": [],
            "_model_module": "@jupyter-widgets/controls",
            "_model_module_version": "1.5.0",
            "_model_name": "FloatProgressModel",
            "_view_count": null,
            "_view_module": "@jupyter-widgets/controls",
            "_view_module_version": "1.5.0",
            "_view_name": "ProgressView",
            "bar_style": "success",
            "description": "",
            "description_tooltip": null,
            "layout": "IPY_MODEL_05744626cfae443a98a5330c415a4208",
            "max": 466062,
            "min": 0,
            "orientation": "horizontal",
            "style": "IPY_MODEL_1807a0ddc9c14daeacdfeb32cbe1ca2a",
            "value": 466062
          }
        },
        "e1b975be23524a168516129c8c10fe8e": {
          "model_module": "@jupyter-widgets/controls",
          "model_module_version": "1.5.0",
          "model_name": "DescriptionStyleModel",
          "state": {
            "_model_module": "@jupyter-widgets/controls",
            "_model_module_version": "1.5.0",
            "_model_name": "DescriptionStyleModel",
            "_view_count": null,
            "_view_module": "@jupyter-widgets/base",
            "_view_module_version": "1.2.0",
            "_view_name": "StyleView",
            "description_width": ""
          }
        },
        "e1f61ae9f81847af8ad676a561cf883c": {
          "model_module": "@jupyter-widgets/controls",
          "model_module_version": "1.5.0",
          "model_name": "HTMLModel",
          "state": {
            "_dom_classes": [],
            "_model_module": "@jupyter-widgets/controls",
            "_model_module_version": "1.5.0",
            "_model_name": "HTMLModel",
            "_view_count": null,
            "_view_module": "@jupyter-widgets/controls",
            "_view_module_version": "1.5.0",
            "_view_name": "HTMLView",
            "description": "",
            "description_tooltip": null,
            "layout": "IPY_MODEL_980171f767524e89ad74ab7d9ea10b0a",
            "placeholder": "​",
            "style": "IPY_MODEL_975b46f6c13348e49dd04d0c42aa2b7a",
            "value": " 466k/466k [00:00&lt;00:00, 1.66MB/s]"
          }
        },
        "e2f8812504b7417dbe4b2119073ec38b": {
          "model_module": "@jupyter-widgets/controls",
          "model_module_version": "1.5.0",
          "model_name": "HBoxModel",
          "state": {
            "_dom_classes": [],
            "_model_module": "@jupyter-widgets/controls",
            "_model_module_version": "1.5.0",
            "_model_name": "HBoxModel",
            "_view_count": null,
            "_view_module": "@jupyter-widgets/controls",
            "_view_module_version": "1.5.0",
            "_view_name": "HBoxView",
            "box_style": "",
            "children": [
              "IPY_MODEL_80c807f2c6a946febc68e60fd7ecc0ac",
              "IPY_MODEL_f3f0ba366de4488aa6def331aa0d81ef",
              "IPY_MODEL_c0c695e236bb437facf97113da1ddc86"
            ],
            "layout": "IPY_MODEL_7228282ceb3c483bba41992f36a700a9"
          }
        },
        "e52d0890cd954f528395ee059b3874a8": {
          "model_module": "@jupyter-widgets/controls",
          "model_module_version": "1.5.0",
          "model_name": "DescriptionStyleModel",
          "state": {
            "_model_module": "@jupyter-widgets/controls",
            "_model_module_version": "1.5.0",
            "_model_name": "DescriptionStyleModel",
            "_view_count": null,
            "_view_module": "@jupyter-widgets/base",
            "_view_module_version": "1.2.0",
            "_view_name": "StyleView",
            "description_width": ""
          }
        },
        "e565a2ed2a35423d8cc25b35123bfc89": {
          "model_module": "@jupyter-widgets/controls",
          "model_module_version": "1.5.0",
          "model_name": "DescriptionStyleModel",
          "state": {
            "_model_module": "@jupyter-widgets/controls",
            "_model_module_version": "1.5.0",
            "_model_name": "DescriptionStyleModel",
            "_view_count": null,
            "_view_module": "@jupyter-widgets/base",
            "_view_module_version": "1.2.0",
            "_view_name": "StyleView",
            "description_width": ""
          }
        },
        "e979cd90cf884fcfa983b68e2aab5806": {
          "model_module": "@jupyter-widgets/base",
          "model_module_version": "1.2.0",
          "model_name": "LayoutModel",
          "state": {
            "_model_module": "@jupyter-widgets/base",
            "_model_module_version": "1.2.0",
            "_model_name": "LayoutModel",
            "_view_count": null,
            "_view_module": "@jupyter-widgets/base",
            "_view_module_version": "1.2.0",
            "_view_name": "LayoutView",
            "align_content": null,
            "align_items": null,
            "align_self": null,
            "border": null,
            "bottom": null,
            "display": null,
            "flex": null,
            "flex_flow": null,
            "grid_area": null,
            "grid_auto_columns": null,
            "grid_auto_flow": null,
            "grid_auto_rows": null,
            "grid_column": null,
            "grid_gap": null,
            "grid_row": null,
            "grid_template_areas": null,
            "grid_template_columns": null,
            "grid_template_rows": null,
            "height": null,
            "justify_content": null,
            "justify_items": null,
            "left": null,
            "margin": null,
            "max_height": null,
            "max_width": null,
            "min_height": null,
            "min_width": null,
            "object_fit": null,
            "object_position": null,
            "order": null,
            "overflow": null,
            "overflow_x": null,
            "overflow_y": null,
            "padding": null,
            "right": null,
            "top": null,
            "visibility": null,
            "width": null
          }
        },
        "efb2f84929654752b15ea4475fd6c2ed": {
          "model_module": "@jupyter-widgets/controls",
          "model_module_version": "1.5.0",
          "model_name": "HBoxModel",
          "state": {
            "_dom_classes": [],
            "_model_module": "@jupyter-widgets/controls",
            "_model_module_version": "1.5.0",
            "_model_name": "HBoxModel",
            "_view_count": null,
            "_view_module": "@jupyter-widgets/controls",
            "_view_module_version": "1.5.0",
            "_view_name": "HBoxView",
            "box_style": "",
            "children": [
              "IPY_MODEL_2cb5acd8808841fcb20e82f74d6de5aa",
              "IPY_MODEL_47eb282bbb1b49b698d330a57e7ba796",
              "IPY_MODEL_7046bd8c36d943b6a58fb5bf24d66a76"
            ],
            "layout": "IPY_MODEL_0c25df983fe249ae8b72de91d7f551be"
          }
        },
        "f3f0ba366de4488aa6def331aa0d81ef": {
          "model_module": "@jupyter-widgets/controls",
          "model_module_version": "1.5.0",
          "model_name": "FloatProgressModel",
          "state": {
            "_dom_classes": [],
            "_model_module": "@jupyter-widgets/controls",
            "_model_module_version": "1.5.0",
            "_model_name": "FloatProgressModel",
            "_view_count": null,
            "_view_module": "@jupyter-widgets/controls",
            "_view_module_version": "1.5.0",
            "_view_name": "ProgressView",
            "bar_style": "success",
            "description": "",
            "description_tooltip": null,
            "layout": "IPY_MODEL_c99afbc638c64fbf851d350e04c7483c",
            "max": 483,
            "min": 0,
            "orientation": "horizontal",
            "style": "IPY_MODEL_a8062264d41847fba8cb6f9082abaeeb",
            "value": 483
          }
        },
        "fc6f93c403a041cead3bfb6b0841f123": {
          "model_module": "@jupyter-widgets/controls",
          "model_module_version": "1.5.0",
          "model_name": "HBoxModel",
          "state": {
            "_dom_classes": [],
            "_model_module": "@jupyter-widgets/controls",
            "_model_module_version": "1.5.0",
            "_model_name": "HBoxModel",
            "_view_count": null,
            "_view_module": "@jupyter-widgets/controls",
            "_view_module_version": "1.5.0",
            "_view_name": "HBoxView",
            "box_style": "",
            "children": [
              "IPY_MODEL_b2746642a2a94d79b8fbf176fbf8a8f2",
              "IPY_MODEL_99da3dcf00ba46bba9ace465d63a2f36",
              "IPY_MODEL_7d3bedc944604b768324131848c2c1be"
            ],
            "layout": "IPY_MODEL_c08072d6a8234f42a0a22eb49504c5fa"
          }
        },
        "ff66874256844c9e9a9edba1fc23d070": {
          "model_module": "@jupyter-widgets/base",
          "model_module_version": "1.2.0",
          "model_name": "LayoutModel",
          "state": {
            "_model_module": "@jupyter-widgets/base",
            "_model_module_version": "1.2.0",
            "_model_name": "LayoutModel",
            "_view_count": null,
            "_view_module": "@jupyter-widgets/base",
            "_view_module_version": "1.2.0",
            "_view_name": "LayoutView",
            "align_content": null,
            "align_items": null,
            "align_self": null,
            "border": null,
            "bottom": null,
            "display": null,
            "flex": null,
            "flex_flow": null,
            "grid_area": null,
            "grid_auto_columns": null,
            "grid_auto_flow": null,
            "grid_auto_rows": null,
            "grid_column": null,
            "grid_gap": null,
            "grid_row": null,
            "grid_template_areas": null,
            "grid_template_columns": null,
            "grid_template_rows": null,
            "height": null,
            "justify_content": null,
            "justify_items": null,
            "left": null,
            "margin": null,
            "max_height": null,
            "max_width": null,
            "min_height": null,
            "min_width": null,
            "object_fit": null,
            "object_position": null,
            "order": null,
            "overflow": null,
            "overflow_x": null,
            "overflow_y": null,
            "padding": null,
            "right": null,
            "top": null,
            "visibility": null,
            "width": null
          }
        }
      }
    }
  },
  "nbformat": 4,
  "nbformat_minor": 0
}
